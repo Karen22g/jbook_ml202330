{
 "cells": [
  {
   "cell_type": "code",
   "execution_count": 1,
   "id": "9fa563bf-374b-4546-8607-d25ef8a7aede",
   "metadata": {
    "tags": []
   },
   "outputs": [
    {
     "name": "stderr",
     "output_type": "stream",
     "text": [
      "C:\\Users\\karen\\anaconda3\\envs\\myenv\\lib\\site-packages\\numpy\\_distributor_init.py:30: UserWarning: loaded more than 1 DLL from .libs:\n",
      "C:\\Users\\karen\\anaconda3\\envs\\myenv\\lib\\site-packages\\numpy\\.libs\\libopenblas64__v0.3.21-gcc_10_3_0.dll\n",
      "C:\\Users\\karen\\anaconda3\\envs\\myenv\\lib\\site-packages\\numpy\\.libs\\libopenblas64__v0.3.23-246-g3d31191b-gcc_10_3_0.dll\n",
      "  warnings.warn(\"loaded more than 1 DLL from .libs:\"\n"
     ]
    }
   ],
   "source": [
    "#Paquetes utilizados\n",
    "import pandas as pd\n",
    "import warnings\n",
    "import numpy as np\n",
    "import matplotlib.pyplot as plt\n",
    "import seaborn as sns\n",
    "from statsmodels.tsa.stattools import adfuller\n",
    "from pandas import Series\n",
    "import matplotlib as mpl\n",
    "from statsmodels.tsa import seasonal\n",
    "from statsmodels.graphics.tsaplots import plot_acf, plot_pacf \n",
    "from statsmodels.tsa.arima_model import ARIMA\n",
    "import statsmodels.api as sm\n",
    "import statsmodels.tsa.api as smtsa\n",
    "import math\n",
    "from statsmodels.tsa.holtwinters import ExponentialSmoothing\n",
    "from statsmodels.tsa.holtwinters import SimpleExpSmoothing\n",
    "from statsmodels.tsa.seasonal import seasonal_decompose\n",
    "from statsmodels.tools.sm_exceptions import ConvergenceWarning\n",
    "warnings.simplefilter(action='ignore', category=FutureWarning)\n",
    "from scipy.stats import norm\n",
    "from sklearn.metrics import mean_absolute_error\n",
    "from scipy.stats import kstest, norm\n",
    "from statsmodels.stats.stattools import durbin_watson\n",
    "from scipy.stats import normaltest\n",
    "from scipy.stats import shapiro\n",
    "from statsmodels.stats.diagnostic import het_white\n",
    "from statsmodels.stats.diagnostic import acorr_ljungbox, het_breuschpagan, het_arch\n",
    "from scipy import stats"
   ]
  },
  {
   "cell_type": "code",
   "execution_count": 2,
   "id": "e8640ff9-b7f1-41a0-9640-11259793908f",
   "metadata": {
    "tags": []
   },
   "outputs": [
    {
     "data": {
      "text/plain": [
       "Posted_date\n",
       "2021-01-24      5\n",
       "2021-01-31      9\n",
       "2021-02-07    169\n",
       "2021-02-14    159\n",
       "2021-02-21    176\n",
       "             ... \n",
       "2024-06-30    227\n",
       "2024-07-07    162\n",
       "2024-07-14    226\n",
       "2024-07-21    237\n",
       "2024-07-28    235\n",
       "Name: Loads, Length: 184, dtype: int64"
      ]
     },
     "execution_count": 2,
     "metadata": {},
     "output_type": "execute_result"
    }
   ],
   "source": [
    "ts = pd.read_excel(\"loadsts.xlsx\")\n",
    "ts.index= ts['Posted_date']\n",
    "ts = ts['Loads']\n",
    "ts"
   ]
  },
  {
   "cell_type": "markdown",
   "id": "bd318084-c849-4e57-85c9-11c3a45a3233",
   "metadata": {},
   "source": [
    "# separacion training validation testing"
   ]
  },
  {
   "cell_type": "code",
   "execution_count": 3,
   "id": "1dfee174-24c0-4c41-8ce6-60b6c01f36e1",
   "metadata": {
    "tags": []
   },
   "outputs": [],
   "source": [
    "def split(serie, trainportion):\n",
    "    perct = math.ceil(len(ts) * trainportion)\n",
    "    perc2 = math.ceil(len(ts)*((1 - trainportion)/2))\n",
    "    train = serie[0:perct]\n",
    "    validation = serie[perct:perct+perc2]\n",
    "    test = serie[perct+perc2:]\n",
    "    return train, validation, test"
   ]
  },
  {
   "cell_type": "code",
   "execution_count": 4,
   "id": "5d700dae-40f8-4158-89f7-6caac427a0dc",
   "metadata": {
    "tags": []
   },
   "outputs": [],
   "source": [
    "train, validation, test = split(ts, 0.7)"
   ]
  },
  {
   "cell_type": "code",
   "execution_count": 5,
   "id": "91642a31-a7bd-4709-9e89-8283201840ca",
   "metadata": {
    "tags": []
   },
   "outputs": [],
   "source": [
    "#seleccion del mape como metrica de error"
   ]
  },
  {
   "cell_type": "markdown",
   "id": "22cc65c2-5b82-4885-9cec-217532737085",
   "metadata": {
    "jp-MarkdownHeadingCollapsed": true,
    "tags": []
   },
   "source": [
    "## suavizacion primer orden"
   ]
  },
  {
   "cell_type": "code",
   "execution_count": 6,
   "id": "51210368-8b68-42b9-a683-80ceeb416283",
   "metadata": {
    "tags": []
   },
   "outputs": [],
   "source": [
    "def firstsmooth(y, lambda_, start=None):\n",
    "    ytilde = y.copy()\n",
    "    if start is None:\n",
    "        start = y[0]\n",
    "    ytilde[0] = lambda_ * y[0] + (1 - lambda_) * start\n",
    "    for i in range(1, len(y)):\n",
    "        ytilde[i] = lambda_ * y[i] + (1 - lambda_) * ytilde[i - 1]\n",
    "    return ytilde"
   ]
  },
  {
   "cell_type": "code",
   "execution_count": 8,
   "id": "58b07a16-cf11-41ea-95ba-94084c8f5a7a",
   "metadata": {
    "tags": []
   },
   "outputs": [],
   "source": [
    "best_mape=900\n",
    "fsresults=pd.DataFrame()\n",
    "T = len(train) #longitud del training\n",
    "tau = len(validation) # tiempo que se va a pronosticar\n",
    "cpi_forecast = np.zeros(tau) \n",
    "cpi_smooth1 = np.zeros(T + tau)\n",
    "cpi_smooth2 = np.zeros(T + tau)\n",
    "cpi_dates = ts\n",
    "\n",
    "for lambda_ in np.arange(0, 0.95, 0.05):\n",
    "    trainfs = firstsmooth(train, lambda_)\n",
    "    mape = 100*(sum(abs(((train - trainfs)/train)))/len(train))\n",
    "    if mape<best_mape:\n",
    "        best_mape=mape\n",
    "        model=trainfs\n",
    "        ls = lambda_\n",
    "        \n",
    "fsresults[\"Model\"] = \"first_smooth\""
   ]
  },
  {
   "cell_type": "code",
   "execution_count": 74,
   "id": "50b7384c-f294-40d6-84ee-6c06b8e5b51b",
   "metadata": {
    "tags": []
   },
   "outputs": [],
   "source": [
    "best_mape=900\n",
    "results=[]\n",
    "\n",
    "for lambda_ in np.arange(0, 0.95, 0.05):\n",
    "    trainfs = firstsmooth(train, lambda_)\n",
    "    mape = 100*(sum(abs(((train - trainfs)/train)))/len(train))\n",
    "    if  mape<best_mape:\n",
    "        best_mape = mape\n",
    "        model=trainfs2\n",
    "        ls = lambda_\n",
    "    results.append(mape)\n",
    "    \n",
    "fsresults = pd.DataFrame({\"lambda\":np.arange(0,0.95,0.05),\"mape\":results})\n",
    "fsresults[\"Model\"] = \"first_smooth\""
   ]
  },
  {
   "cell_type": "code",
   "execution_count": 76,
   "id": "e50fa0cf-9eb7-4c8d-be6c-8932e53d5bff",
   "metadata": {
    "tags": []
   },
   "outputs": [
    {
     "data": {
      "image/png": "[encoded data removed]",
      "text/plain": [
       "<Figure size 640x480 with 1 Axes>"
      ]
     },
     "metadata": {},
     "output_type": "display_data"
    }
   ],
   "source": [
    "plt.plot(fsresults[\"lambda\"], fsresults[\"mape\"], marker='o', linestyle='-')\n",
    "plt.title(\"$MAPE$ vs. $\\lambda$\")\n",
    "plt.xlabel('$\\lambda$')\n",
    "plt.ylabel('$MAPE$')\n",
    "plt.axvline(x=ls, color='red')\n",
    "plt.show()"
   ]
  },
  {
   "cell_type": "code",
   "execution_count": 11,
   "id": "27a5d8a4-c3b1-449c-9121-e9498dd238bd",
   "metadata": {
    "tags": []
   },
   "outputs": [
    {
     "data": {
      "image/png": "[encoded data removed]",
      "text/plain": [
       "<Figure size 640x480 with 1 Axes>"
      ]
     },
     "metadata": {},
     "output_type": "display_data"
    }
   ],
   "source": [
    "plt.plot(train, marker='o', linestyle='', markersize=3, label='Loads training')\n",
    "plt.plot(model, label='SES $\\lambda=0.8$')\n",
    "plt.xlabel('Date')\n",
    "plt.ylabel('Booked loads')\n",
    "plt.legend()\n",
    "plt.show()"
   ]
  },
  {
   "cell_type": "markdown",
   "id": "c697b7f9-bbd1-4e99-924a-7319d30c7e79",
   "metadata": {
    "jp-MarkdownHeadingCollapsed": true,
    "tags": []
   },
   "source": [
    "## suavizacion segundo orden"
   ]
  },
  {
   "cell_type": "code",
   "execution_count": 43,
   "id": "ff7002b4-cacb-4538-a956-5c17f81ac3e0",
   "metadata": {
    "tags": []
   },
   "outputs": [],
   "source": [
    "mape=900\n",
    "fs2results=pd.DataFrame()\n",
    "for lambda_ in np.arange(0, 0.95, 0.05):\n",
    "    trainfs = firstsmooth(y=train, lambda_=lambda_)\n",
    "    trainfs2 = firstsmooth(y=trainfs, lambda_=lambda_)\n",
    "    trainfs2 = 2 * trainfs - trainfs2\n",
    "    mape = 100*(sum(abs(((validation - cpi_forecast)/validation)))/len(validation))\n",
    "    if ret1['MAPE'][0]<mape:\n",
    "        mape=ret1['MAPE'][0]\n",
    "        model=trainfs2\n",
    "        ls = lambda_\n",
    "    fs2results = pd.concat([fs2results, ret1], axis=0, ignore_index=True)\n",
    "fs2results[\"Model\"] = \"second_smooth\""
   ]
  },
  {
   "cell_type": "code",
   "execution_count": 44,
   "id": "d0dc1896-17d9-429f-8dcb-9057440488e6",
   "metadata": {},
   "outputs": [
    {
     "data": {
      "image/png": "[encoded data removed]",
      "text/plain": [
       "<Figure size 640x480 with 1 Axes>"
      ]
     },
     "metadata": {},
     "output_type": "display_data"
    }
   ],
   "source": [
    "plt.plot(fs2results[\"lambda\"], fs2results[\"MAPE\"], marker='o', linestyle='-')\n",
    "plt.title(\"$MAPE$ vs. $\\lambda$\")\n",
    "plt.xlabel('$\\lambda$')\n",
    "plt.ylabel('$MAPE$')\n",
    "plt.axvline(x=ls, color='red')\n",
    "plt.show()"
   ]
  },
  {
   "cell_type": "code",
   "execution_count": 49,
   "id": "62275387-2a0e-4bfc-bd68-e75de82e9ab0",
   "metadata": {
    "tags": []
   },
   "outputs": [
    {
     "data": {
      "image/png": "[encoded data removed]",
      "text/plain": [
       "<Figure size 640x480 with 1 Axes>"
      ]
     },
     "metadata": {},
     "output_type": "display_data"
    }
   ],
   "source": [
    "plt.plot(train.index,train, marker='o', linestyle='', markersize=3, label='Loads training')\n",
    "plt.plot(train.index,model, label='SES $\\lambda=0.6$')\n",
    "plt.xlabel('Date')\n",
    "plt.ylabel('Booked loads')\n",
    "plt.legend()\n",
    "plt.show()"
   ]
  },
  {
   "cell_type": "code",
   "execution_count": 71,
   "id": "f249493c-c167-48a3-be70-85a037f087a6",
   "metadata": {
    "tags": []
   },
   "outputs": [
    {
     "data": {
      "text/plain": [
       "array([  5.        ,   8.2       , 136.84      , 154.568     ,\n",
       "       171.7136    , 187.14272   , 180.628544  , 170.5257088 ,\n",
       "       175.70514176, 163.94102835, 179.18820567, 183.03764113,\n",
       "       175.00752823, 172.60150565, 182.52030113, 174.90406023,\n",
       "       159.78081205, 167.15616241, 175.83123248, 173.5662465 ,\n",
       "       157.1132493 , 161.02264986, 165.80452997, 134.76090599,\n",
       "       155.7521812 , 179.15043624, 162.23008725, 167.64601745,\n",
       "       150.32920349, 173.2658407 , 179.45316814, 158.29063363,\n",
       "       146.85812673, 145.37162535, 159.47432507, 146.29486501,\n",
       "       153.258973  , 170.6517946 , 176.53035892, 175.30607178,\n",
       "       155.86121436, 167.97224287, 168.79444857, 184.15888971,\n",
       "       139.23177794, 225.44635559, 181.88927112, 195.57785422,\n",
       "       138.31557084, 106.06311417, 143.61262283, 167.12252457,\n",
       "       167.82450491, 161.56490098, 166.7129802 , 164.54259604,\n",
       "       157.70851921, 153.94170384, 153.18834077, 161.83766815,\n",
       "       169.96753363, 176.39350673, 175.27870135, 198.25574027,\n",
       "       178.85114805, 187.77022961, 165.55404592, 166.71080918,\n",
       "       158.94216184, 134.98843237, 111.79768647, 107.95953729,\n",
       "       119.19190746, 107.03838149,  97.4076763 ,  93.88153526,\n",
       "        85.17630705,  87.43526141,  83.08705228,  83.81741046,\n",
       "        83.96348209,  82.39269642,  78.07853928,  75.61570786,\n",
       "        85.52314157,  79.50462831,  98.30092566, 108.46018513,\n",
       "       108.09203703,  98.41840741,  97.28368148,  91.4567363 ,\n",
       "        93.49134726,  97.09826945,  91.41965389, 103.88393078,\n",
       "        68.77678616, 104.15535723, 117.63107145, 118.72621429,\n",
       "        98.94524286,  82.98904857, 101.39780971, 111.47956194,\n",
       "       111.89591239, 110.37918248, 107.6758365 , 126.3351673 ,\n",
       "       126.86703346, 136.57340669, 144.11468134, 165.62293627,\n",
       "       159.52458725, 163.90491745, 167.98098349, 169.5961967 ,\n",
       "       184.31923934, 192.06384787, 187.21276957, 179.84255391,\n",
       "       206.36851078, 201.27370216, 197.05474043, 209.01094809,\n",
       "       173.00218962, 192.20043792, 208.04008758, 225.60801752,\n",
       "       224.3216035 ,   0.        ,   0.        ,   0.        ,\n",
       "         0.        ,   0.        ,   0.        ,   0.        ,\n",
       "         0.        ,   0.        ,   0.        ,   0.        ,\n",
       "         0.        ,   0.        ,   0.        ,   0.        ,\n",
       "         0.        ,   0.        ,   0.        ,   0.        ,\n",
       "         0.        ,   0.        ,   0.        ,   0.        ,\n",
       "         0.        ,   0.        ,   0.        ,   0.        ,\n",
       "         0.        ])"
      ]
     },
     "metadata": {},
     "output_type": "display_data"
    },
    {
     "data": {
      "text/plain": [
       "array([  5.        ,   8.2       , 136.84      , 154.568     ,\n",
       "       171.7136    , 187.14272   , 180.628544  , 170.5257088 ,\n",
       "       175.70514176, 163.94102835, 179.18820567, 183.03764113,\n",
       "       175.00752823, 172.60150565, 182.52030113, 174.90406023,\n",
       "       159.78081205, 167.15616241, 175.83123248, 173.5662465 ,\n",
       "       157.1132493 , 161.02264986, 165.80452997, 134.76090599,\n",
       "       155.7521812 , 179.15043624, 162.23008725, 167.64601745,\n",
       "       150.32920349, 173.2658407 , 179.45316814, 158.29063363,\n",
       "       146.85812673, 145.37162535, 159.47432507, 146.29486501,\n",
       "       153.258973  , 170.6517946 , 176.53035892, 175.30607178,\n",
       "       155.86121436, 167.97224287, 168.79444857, 184.15888971,\n",
       "       139.23177794, 225.44635559, 181.88927112, 195.57785422,\n",
       "       138.31557084, 106.06311417, 143.61262283, 167.12252457,\n",
       "       167.82450491, 161.56490098, 166.7129802 , 164.54259604,\n",
       "       157.70851921, 153.94170384, 153.18834077, 161.83766815,\n",
       "       169.96753363, 176.39350673, 175.27870135, 198.25574027,\n",
       "       178.85114805, 187.77022961, 165.55404592, 166.71080918,\n",
       "       158.94216184, 134.98843237, 111.79768647, 107.95953729,\n",
       "       119.19190746, 107.03838149,  97.4076763 ,  93.88153526,\n",
       "        85.17630705,  87.43526141,  83.08705228,  83.81741046,\n",
       "        83.96348209,  82.39269642,  78.07853928,  75.61570786,\n",
       "        85.52314157,  79.50462831,  98.30092566, 108.46018513,\n",
       "       108.09203703,  98.41840741,  97.28368148,  91.4567363 ,\n",
       "        93.49134726,  97.09826945,  91.41965389, 103.88393078,\n",
       "        68.77678616, 104.15535723, 117.63107145, 118.72621429,\n",
       "        98.94524286,  82.98904857, 101.39780971, 111.47956194,\n",
       "       111.89591239, 110.37918248, 107.6758365 , 126.3351673 ,\n",
       "       126.86703346, 136.57340669, 144.11468134, 165.62293627,\n",
       "       159.52458725, 163.90491745, 167.98098349, 169.5961967 ,\n",
       "       184.31923934, 192.06384787, 187.21276957, 179.84255391,\n",
       "       206.36851078, 201.27370216, 197.05474043, 209.01094809,\n",
       "       173.00218962, 192.20043792, 208.04008758, 225.60801752,\n",
       "       224.3216035 , 206.4643207 ,   0.        ,   0.        ,\n",
       "         0.        ,   0.        ,   0.        ,   0.        ,\n",
       "         0.        ,   0.        ,   0.        ,   0.        ,\n",
       "         0.        ,   0.        ,   0.        ,   0.        ,\n",
       "         0.        ,   0.        ,   0.        ,   0.        ,\n",
       "         0.        ,   0.        ,   0.        ,   0.        ,\n",
       "         0.        ,   0.        ,   0.        ,   0.        ,\n",
       "         0.        ])"
      ]
     },
     "metadata": {},
     "output_type": "display_data"
    },
    {
     "data": {
      "text/plain": [
       "array([  5.        ,   8.2       , 136.84      , 154.568     ,\n",
       "       171.7136    , 187.14272   , 180.628544  , 170.5257088 ,\n",
       "       175.70514176, 163.94102835, 179.18820567, 183.03764113,\n",
       "       175.00752823, 172.60150565, 182.52030113, 174.90406023,\n",
       "       159.78081205, 167.15616241, 175.83123248, 173.5662465 ,\n",
       "       157.1132493 , 161.02264986, 165.80452997, 134.76090599,\n",
       "       155.7521812 , 179.15043624, 162.23008725, 167.64601745,\n",
       "       150.32920349, 173.2658407 , 179.45316814, 158.29063363,\n",
       "       146.85812673, 145.37162535, 159.47432507, 146.29486501,\n",
       "       153.258973  , 170.6517946 , 176.53035892, 175.30607178,\n",
       "       155.86121436, 167.97224287, 168.79444857, 184.15888971,\n",
       "       139.23177794, 225.44635559, 181.88927112, 195.57785422,\n",
       "       138.31557084, 106.06311417, 143.61262283, 167.12252457,\n",
       "       167.82450491, 161.56490098, 166.7129802 , 164.54259604,\n",
       "       157.70851921, 153.94170384, 153.18834077, 161.83766815,\n",
       "       169.96753363, 176.39350673, 175.27870135, 198.25574027,\n",
       "       178.85114805, 187.77022961, 165.55404592, 166.71080918,\n",
       "       158.94216184, 134.98843237, 111.79768647, 107.95953729,\n",
       "       119.19190746, 107.03838149,  97.4076763 ,  93.88153526,\n",
       "        85.17630705,  87.43526141,  83.08705228,  83.81741046,\n",
       "        83.96348209,  82.39269642,  78.07853928,  75.61570786,\n",
       "        85.52314157,  79.50462831,  98.30092566, 108.46018513,\n",
       "       108.09203703,  98.41840741,  97.28368148,  91.4567363 ,\n",
       "        93.49134726,  97.09826945,  91.41965389, 103.88393078,\n",
       "        68.77678616, 104.15535723, 117.63107145, 118.72621429,\n",
       "        98.94524286,  82.98904857, 101.39780971, 111.47956194,\n",
       "       111.89591239, 110.37918248, 107.6758365 , 126.3351673 ,\n",
       "       126.86703346, 136.57340669, 144.11468134, 165.62293627,\n",
       "       159.52458725, 163.90491745, 167.98098349, 169.5961967 ,\n",
       "       184.31923934, 192.06384787, 187.21276957, 179.84255391,\n",
       "       206.36851078, 201.27370216, 197.05474043, 209.01094809,\n",
       "       173.00218962, 192.20043792, 208.04008758, 225.60801752,\n",
       "       224.3216035 , 206.4643207 , 225.29286414,   0.        ,\n",
       "         0.        ,   0.        ,   0.        ,   0.        ,\n",
       "         0.        ,   0.        ,   0.        ,   0.        ,\n",
       "         0.        ,   0.        ,   0.        ,   0.        ,\n",
       "         0.        ,   0.        ,   0.        ,   0.        ,\n",
       "         0.        ,   0.        ,   0.        ,   0.        ,\n",
       "         0.        ,   0.        ,   0.        ,   0.        ,\n",
       "         0.        ])"
      ]
     },
     "metadata": {},
     "output_type": "display_data"
    },
    {
     "data": {
      "text/plain": [
       "array([  5.        ,   8.2       , 136.84      , 154.568     ,\n",
       "       171.7136    , 187.14272   , 180.628544  , 170.5257088 ,\n",
       "       175.70514176, 163.94102835, 179.18820567, 183.03764113,\n",
       "       175.00752823, 172.60150565, 182.52030113, 174.90406023,\n",
       "       159.78081205, 167.15616241, 175.83123248, 173.5662465 ,\n",
       "       157.1132493 , 161.02264986, 165.80452997, 134.76090599,\n",
       "       155.7521812 , 179.15043624, 162.23008725, 167.64601745,\n",
       "       150.32920349, 173.2658407 , 179.45316814, 158.29063363,\n",
       "       146.85812673, 145.37162535, 159.47432507, 146.29486501,\n",
       "       153.258973  , 170.6517946 , 176.53035892, 175.30607178,\n",
       "       155.86121436, 167.97224287, 168.79444857, 184.15888971,\n",
       "       139.23177794, 225.44635559, 181.88927112, 195.57785422,\n",
       "       138.31557084, 106.06311417, 143.61262283, 167.12252457,\n",
       "       167.82450491, 161.56490098, 166.7129802 , 164.54259604,\n",
       "       157.70851921, 153.94170384, 153.18834077, 161.83766815,\n",
       "       169.96753363, 176.39350673, 175.27870135, 198.25574027,\n",
       "       178.85114805, 187.77022961, 165.55404592, 166.71080918,\n",
       "       158.94216184, 134.98843237, 111.79768647, 107.95953729,\n",
       "       119.19190746, 107.03838149,  97.4076763 ,  93.88153526,\n",
       "        85.17630705,  87.43526141,  83.08705228,  83.81741046,\n",
       "        83.96348209,  82.39269642,  78.07853928,  75.61570786,\n",
       "        85.52314157,  79.50462831,  98.30092566, 108.46018513,\n",
       "       108.09203703,  98.41840741,  97.28368148,  91.4567363 ,\n",
       "        93.49134726,  97.09826945,  91.41965389, 103.88393078,\n",
       "        68.77678616, 104.15535723, 117.63107145, 118.72621429,\n",
       "        98.94524286,  82.98904857, 101.39780971, 111.47956194,\n",
       "       111.89591239, 110.37918248, 107.6758365 , 126.3351673 ,\n",
       "       126.86703346, 136.57340669, 144.11468134, 165.62293627,\n",
       "       159.52458725, 163.90491745, 167.98098349, 169.5961967 ,\n",
       "       184.31923934, 192.06384787, 187.21276957, 179.84255391,\n",
       "       206.36851078, 201.27370216, 197.05474043, 209.01094809,\n",
       "       173.00218962, 192.20043792, 208.04008758, 225.60801752,\n",
       "       224.3216035 , 206.4643207 , 225.29286414, 229.05857283,\n",
       "         0.        ,   0.        ,   0.        ,   0.        ,\n",
       "         0.        ,   0.        ,   0.        ,   0.        ,\n",
       "         0.        ,   0.        ,   0.        ,   0.        ,\n",
       "         0.        ,   0.        ,   0.        ,   0.        ,\n",
       "         0.        ,   0.        ,   0.        ,   0.        ,\n",
       "         0.        ,   0.        ,   0.        ,   0.        ,\n",
       "         0.        ])"
      ]
     },
     "metadata": {},
     "output_type": "display_data"
    },
    {
     "data": {
      "text/plain": [
       "array([  5.        ,   8.2       , 136.84      , 154.568     ,\n",
       "       171.7136    , 187.14272   , 180.628544  , 170.5257088 ,\n",
       "       175.70514176, 163.94102835, 179.18820567, 183.03764113,\n",
       "       175.00752823, 172.60150565, 182.52030113, 174.90406023,\n",
       "       159.78081205, 167.15616241, 175.83123248, 173.5662465 ,\n",
       "       157.1132493 , 161.02264986, 165.80452997, 134.76090599,\n",
       "       155.7521812 , 179.15043624, 162.23008725, 167.64601745,\n",
       "       150.32920349, 173.2658407 , 179.45316814, 158.29063363,\n",
       "       146.85812673, 145.37162535, 159.47432507, 146.29486501,\n",
       "       153.258973  , 170.6517946 , 176.53035892, 175.30607178,\n",
       "       155.86121436, 167.97224287, 168.79444857, 184.15888971,\n",
       "       139.23177794, 225.44635559, 181.88927112, 195.57785422,\n",
       "       138.31557084, 106.06311417, 143.61262283, 167.12252457,\n",
       "       167.82450491, 161.56490098, 166.7129802 , 164.54259604,\n",
       "       157.70851921, 153.94170384, 153.18834077, 161.83766815,\n",
       "       169.96753363, 176.39350673, 175.27870135, 198.25574027,\n",
       "       178.85114805, 187.77022961, 165.55404592, 166.71080918,\n",
       "       158.94216184, 134.98843237, 111.79768647, 107.95953729,\n",
       "       119.19190746, 107.03838149,  97.4076763 ,  93.88153526,\n",
       "        85.17630705,  87.43526141,  83.08705228,  83.81741046,\n",
       "        83.96348209,  82.39269642,  78.07853928,  75.61570786,\n",
       "        85.52314157,  79.50462831,  98.30092566, 108.46018513,\n",
       "       108.09203703,  98.41840741,  97.28368148,  91.4567363 ,\n",
       "        93.49134726,  97.09826945,  91.41965389, 103.88393078,\n",
       "        68.77678616, 104.15535723, 117.63107145, 118.72621429,\n",
       "        98.94524286,  82.98904857, 101.39780971, 111.47956194,\n",
       "       111.89591239, 110.37918248, 107.6758365 , 126.3351673 ,\n",
       "       126.86703346, 136.57340669, 144.11468134, 165.62293627,\n",
       "       159.52458725, 163.90491745, 167.98098349, 169.5961967 ,\n",
       "       184.31923934, 192.06384787, 187.21276957, 179.84255391,\n",
       "       206.36851078, 201.27370216, 197.05474043, 209.01094809,\n",
       "       173.00218962, 192.20043792, 208.04008758, 225.60801752,\n",
       "       224.3216035 , 206.4643207 , 225.29286414, 229.05857283,\n",
       "       223.41171457,   0.        ,   0.        ,   0.        ,\n",
       "         0.        ,   0.        ,   0.        ,   0.        ,\n",
       "         0.        ,   0.        ,   0.        ,   0.        ,\n",
       "         0.        ,   0.        ,   0.        ,   0.        ,\n",
       "         0.        ,   0.        ,   0.        ,   0.        ,\n",
       "         0.        ,   0.        ,   0.        ,   0.        ,\n",
       "         0.        ])"
      ]
     },
     "metadata": {},
     "output_type": "display_data"
    },
    {
     "data": {
      "text/plain": [
       "array([  5.        ,   8.2       , 136.84      , 154.568     ,\n",
       "       171.7136    , 187.14272   , 180.628544  , 170.5257088 ,\n",
       "       175.70514176, 163.94102835, 179.18820567, 183.03764113,\n",
       "       175.00752823, 172.60150565, 182.52030113, 174.90406023,\n",
       "       159.78081205, 167.15616241, 175.83123248, 173.5662465 ,\n",
       "       157.1132493 , 161.02264986, 165.80452997, 134.76090599,\n",
       "       155.7521812 , 179.15043624, 162.23008725, 167.64601745,\n",
       "       150.32920349, 173.2658407 , 179.45316814, 158.29063363,\n",
       "       146.85812673, 145.37162535, 159.47432507, 146.29486501,\n",
       "       153.258973  , 170.6517946 , 176.53035892, 175.30607178,\n",
       "       155.86121436, 167.97224287, 168.79444857, 184.15888971,\n",
       "       139.23177794, 225.44635559, 181.88927112, 195.57785422,\n",
       "       138.31557084, 106.06311417, 143.61262283, 167.12252457,\n",
       "       167.82450491, 161.56490098, 166.7129802 , 164.54259604,\n",
       "       157.70851921, 153.94170384, 153.18834077, 161.83766815,\n",
       "       169.96753363, 176.39350673, 175.27870135, 198.25574027,\n",
       "       178.85114805, 187.77022961, 165.55404592, 166.71080918,\n",
       "       158.94216184, 134.98843237, 111.79768647, 107.95953729,\n",
       "       119.19190746, 107.03838149,  97.4076763 ,  93.88153526,\n",
       "        85.17630705,  87.43526141,  83.08705228,  83.81741046,\n",
       "        83.96348209,  82.39269642,  78.07853928,  75.61570786,\n",
       "        85.52314157,  79.50462831,  98.30092566, 108.46018513,\n",
       "       108.09203703,  98.41840741,  97.28368148,  91.4567363 ,\n",
       "        93.49134726,  97.09826945,  91.41965389, 103.88393078,\n",
       "        68.77678616, 104.15535723, 117.63107145, 118.72621429,\n",
       "        98.94524286,  82.98904857, 101.39780971, 111.47956194,\n",
       "       111.89591239, 110.37918248, 107.6758365 , 126.3351673 ,\n",
       "       126.86703346, 136.57340669, 144.11468134, 165.62293627,\n",
       "       159.52458725, 163.90491745, 167.98098349, 169.5961967 ,\n",
       "       184.31923934, 192.06384787, 187.21276957, 179.84255391,\n",
       "       206.36851078, 201.27370216, 197.05474043, 209.01094809,\n",
       "       173.00218962, 192.20043792, 208.04008758, 225.60801752,\n",
       "       224.3216035 , 206.4643207 , 225.29286414, 229.05857283,\n",
       "       223.41171457, 211.08234291,   0.        ,   0.        ,\n",
       "         0.        ,   0.        ,   0.        ,   0.        ,\n",
       "         0.        ,   0.        ,   0.        ,   0.        ,\n",
       "         0.        ,   0.        ,   0.        ,   0.        ,\n",
       "         0.        ,   0.        ,   0.        ,   0.        ,\n",
       "         0.        ,   0.        ,   0.        ,   0.        ,\n",
       "         0.        ])"
      ]
     },
     "metadata": {},
     "output_type": "display_data"
    },
    {
     "data": {
      "text/plain": [
       "array([  5.        ,   8.2       , 136.84      , 154.568     ,\n",
       "       171.7136    , 187.14272   , 180.628544  , 170.5257088 ,\n",
       "       175.70514176, 163.94102835, 179.18820567, 183.03764113,\n",
       "       175.00752823, 172.60150565, 182.52030113, 174.90406023,\n",
       "       159.78081205, 167.15616241, 175.83123248, 173.5662465 ,\n",
       "       157.1132493 , 161.02264986, 165.80452997, 134.76090599,\n",
       "       155.7521812 , 179.15043624, 162.23008725, 167.64601745,\n",
       "       150.32920349, 173.2658407 , 179.45316814, 158.29063363,\n",
       "       146.85812673, 145.37162535, 159.47432507, 146.29486501,\n",
       "       153.258973  , 170.6517946 , 176.53035892, 175.30607178,\n",
       "       155.86121436, 167.97224287, 168.79444857, 184.15888971,\n",
       "       139.23177794, 225.44635559, 181.88927112, 195.57785422,\n",
       "       138.31557084, 106.06311417, 143.61262283, 167.12252457,\n",
       "       167.82450491, 161.56490098, 166.7129802 , 164.54259604,\n",
       "       157.70851921, 153.94170384, 153.18834077, 161.83766815,\n",
       "       169.96753363, 176.39350673, 175.27870135, 198.25574027,\n",
       "       178.85114805, 187.77022961, 165.55404592, 166.71080918,\n",
       "       158.94216184, 134.98843237, 111.79768647, 107.95953729,\n",
       "       119.19190746, 107.03838149,  97.4076763 ,  93.88153526,\n",
       "        85.17630705,  87.43526141,  83.08705228,  83.81741046,\n",
       "        83.96348209,  82.39269642,  78.07853928,  75.61570786,\n",
       "        85.52314157,  79.50462831,  98.30092566, 108.46018513,\n",
       "       108.09203703,  98.41840741,  97.28368148,  91.4567363 ,\n",
       "        93.49134726,  97.09826945,  91.41965389, 103.88393078,\n",
       "        68.77678616, 104.15535723, 117.63107145, 118.72621429,\n",
       "        98.94524286,  82.98904857, 101.39780971, 111.47956194,\n",
       "       111.89591239, 110.37918248, 107.6758365 , 126.3351673 ,\n",
       "       126.86703346, 136.57340669, 144.11468134, 165.62293627,\n",
       "       159.52458725, 163.90491745, 167.98098349, 169.5961967 ,\n",
       "       184.31923934, 192.06384787, 187.21276957, 179.84255391,\n",
       "       206.36851078, 201.27370216, 197.05474043, 209.01094809,\n",
       "       173.00218962, 192.20043792, 208.04008758, 225.60801752,\n",
       "       224.3216035 , 206.4643207 , 225.29286414, 229.05857283,\n",
       "       223.41171457, 211.08234291, 236.61646858,   0.        ,\n",
       "         0.        ,   0.        ,   0.        ,   0.        ,\n",
       "         0.        ,   0.        ,   0.        ,   0.        ,\n",
       "         0.        ,   0.        ,   0.        ,   0.        ,\n",
       "         0.        ,   0.        ,   0.        ,   0.        ,\n",
       "         0.        ,   0.        ,   0.        ,   0.        ,\n",
       "         0.        ])"
      ]
     },
     "metadata": {},
     "output_type": "display_data"
    },
    {
     "data": {
      "text/plain": [
       "array([  5.        ,   8.2       , 136.84      , 154.568     ,\n",
       "       171.7136    , 187.14272   , 180.628544  , 170.5257088 ,\n",
       "       175.70514176, 163.94102835, 179.18820567, 183.03764113,\n",
       "       175.00752823, 172.60150565, 182.52030113, 174.90406023,\n",
       "       159.78081205, 167.15616241, 175.83123248, 173.5662465 ,\n",
       "       157.1132493 , 161.02264986, 165.80452997, 134.76090599,\n",
       "       155.7521812 , 179.15043624, 162.23008725, 167.64601745,\n",
       "       150.32920349, 173.2658407 , 179.45316814, 158.29063363,\n",
       "       146.85812673, 145.37162535, 159.47432507, 146.29486501,\n",
       "       153.258973  , 170.6517946 , 176.53035892, 175.30607178,\n",
       "       155.86121436, 167.97224287, 168.79444857, 184.15888971,\n",
       "       139.23177794, 225.44635559, 181.88927112, 195.57785422,\n",
       "       138.31557084, 106.06311417, 143.61262283, 167.12252457,\n",
       "       167.82450491, 161.56490098, 166.7129802 , 164.54259604,\n",
       "       157.70851921, 153.94170384, 153.18834077, 161.83766815,\n",
       "       169.96753363, 176.39350673, 175.27870135, 198.25574027,\n",
       "       178.85114805, 187.77022961, 165.55404592, 166.71080918,\n",
       "       158.94216184, 134.98843237, 111.79768647, 107.95953729,\n",
       "       119.19190746, 107.03838149,  97.4076763 ,  93.88153526,\n",
       "        85.17630705,  87.43526141,  83.08705228,  83.81741046,\n",
       "        83.96348209,  82.39269642,  78.07853928,  75.61570786,\n",
       "        85.52314157,  79.50462831,  98.30092566, 108.46018513,\n",
       "       108.09203703,  98.41840741,  97.28368148,  91.4567363 ,\n",
       "        93.49134726,  97.09826945,  91.41965389, 103.88393078,\n",
       "        68.77678616, 104.15535723, 117.63107145, 118.72621429,\n",
       "        98.94524286,  82.98904857, 101.39780971, 111.47956194,\n",
       "       111.89591239, 110.37918248, 107.6758365 , 126.3351673 ,\n",
       "       126.86703346, 136.57340669, 144.11468134, 165.62293627,\n",
       "       159.52458725, 163.90491745, 167.98098349, 169.5961967 ,\n",
       "       184.31923934, 192.06384787, 187.21276957, 179.84255391,\n",
       "       206.36851078, 201.27370216, 197.05474043, 209.01094809,\n",
       "       173.00218962, 192.20043792, 208.04008758, 225.60801752,\n",
       "       224.3216035 , 206.4643207 , 225.29286414, 229.05857283,\n",
       "       223.41171457, 211.08234291, 236.61646858, 239.32329372,\n",
       "         0.        ,   0.        ,   0.        ,   0.        ,\n",
       "         0.        ,   0.        ,   0.        ,   0.        ,\n",
       "         0.        ,   0.        ,   0.        ,   0.        ,\n",
       "         0.        ,   0.        ,   0.        ,   0.        ,\n",
       "         0.        ,   0.        ,   0.        ,   0.        ,\n",
       "         0.        ])"
      ]
     },
     "metadata": {},
     "output_type": "display_data"
    },
    {
     "data": {
      "text/plain": [
       "array([  5.        ,   8.2       , 136.84      , 154.568     ,\n",
       "       171.7136    , 187.14272   , 180.628544  , 170.5257088 ,\n",
       "       175.70514176, 163.94102835, 179.18820567, 183.03764113,\n",
       "       175.00752823, 172.60150565, 182.52030113, 174.90406023,\n",
       "       159.78081205, 167.15616241, 175.83123248, 173.5662465 ,\n",
       "       157.1132493 , 161.02264986, 165.80452997, 134.76090599,\n",
       "       155.7521812 , 179.15043624, 162.23008725, 167.64601745,\n",
       "       150.32920349, 173.2658407 , 179.45316814, 158.29063363,\n",
       "       146.85812673, 145.37162535, 159.47432507, 146.29486501,\n",
       "       153.258973  , 170.6517946 , 176.53035892, 175.30607178,\n",
       "       155.86121436, 167.97224287, 168.79444857, 184.15888971,\n",
       "       139.23177794, 225.44635559, 181.88927112, 195.57785422,\n",
       "       138.31557084, 106.06311417, 143.61262283, 167.12252457,\n",
       "       167.82450491, 161.56490098, 166.7129802 , 164.54259604,\n",
       "       157.70851921, 153.94170384, 153.18834077, 161.83766815,\n",
       "       169.96753363, 176.39350673, 175.27870135, 198.25574027,\n",
       "       178.85114805, 187.77022961, 165.55404592, 166.71080918,\n",
       "       158.94216184, 134.98843237, 111.79768647, 107.95953729,\n",
       "       119.19190746, 107.03838149,  97.4076763 ,  93.88153526,\n",
       "        85.17630705,  87.43526141,  83.08705228,  83.81741046,\n",
       "        83.96348209,  82.39269642,  78.07853928,  75.61570786,\n",
       "        85.52314157,  79.50462831,  98.30092566, 108.46018513,\n",
       "       108.09203703,  98.41840741,  97.28368148,  91.4567363 ,\n",
       "        93.49134726,  97.09826945,  91.41965389, 103.88393078,\n",
       "        68.77678616, 104.15535723, 117.63107145, 118.72621429,\n",
       "        98.94524286,  82.98904857, 101.39780971, 111.47956194,\n",
       "       111.89591239, 110.37918248, 107.6758365 , 126.3351673 ,\n",
       "       126.86703346, 136.57340669, 144.11468134, 165.62293627,\n",
       "       159.52458725, 163.90491745, 167.98098349, 169.5961967 ,\n",
       "       184.31923934, 192.06384787, 187.21276957, 179.84255391,\n",
       "       206.36851078, 201.27370216, 197.05474043, 209.01094809,\n",
       "       173.00218962, 192.20043792, 208.04008758, 225.60801752,\n",
       "       224.3216035 , 206.4643207 , 225.29286414, 229.05857283,\n",
       "       223.41171457, 211.08234291, 236.61646858, 239.32329372,\n",
       "       223.06465874,   0.        ,   0.        ,   0.        ,\n",
       "         0.        ,   0.        ,   0.        ,   0.        ,\n",
       "         0.        ,   0.        ,   0.        ,   0.        ,\n",
       "         0.        ,   0.        ,   0.        ,   0.        ,\n",
       "         0.        ,   0.        ,   0.        ,   0.        ,\n",
       "         0.        ])"
      ]
     },
     "metadata": {},
     "output_type": "display_data"
    },
    {
     "data": {
      "text/plain": [
       "array([  5.        ,   8.2       , 136.84      , 154.568     ,\n",
       "       171.7136    , 187.14272   , 180.628544  , 170.5257088 ,\n",
       "       175.70514176, 163.94102835, 179.18820567, 183.03764113,\n",
       "       175.00752823, 172.60150565, 182.52030113, 174.90406023,\n",
       "       159.78081205, 167.15616241, 175.83123248, 173.5662465 ,\n",
       "       157.1132493 , 161.02264986, 165.80452997, 134.76090599,\n",
       "       155.7521812 , 179.15043624, 162.23008725, 167.64601745,\n",
       "       150.32920349, 173.2658407 , 179.45316814, 158.29063363,\n",
       "       146.85812673, 145.37162535, 159.47432507, 146.29486501,\n",
       "       153.258973  , 170.6517946 , 176.53035892, 175.30607178,\n",
       "       155.86121436, 167.97224287, 168.79444857, 184.15888971,\n",
       "       139.23177794, 225.44635559, 181.88927112, 195.57785422,\n",
       "       138.31557084, 106.06311417, 143.61262283, 167.12252457,\n",
       "       167.82450491, 161.56490098, 166.7129802 , 164.54259604,\n",
       "       157.70851921, 153.94170384, 153.18834077, 161.83766815,\n",
       "       169.96753363, 176.39350673, 175.27870135, 198.25574027,\n",
       "       178.85114805, 187.77022961, 165.55404592, 166.71080918,\n",
       "       158.94216184, 134.98843237, 111.79768647, 107.95953729,\n",
       "       119.19190746, 107.03838149,  97.4076763 ,  93.88153526,\n",
       "        85.17630705,  87.43526141,  83.08705228,  83.81741046,\n",
       "        83.96348209,  82.39269642,  78.07853928,  75.61570786,\n",
       "        85.52314157,  79.50462831,  98.30092566, 108.46018513,\n",
       "       108.09203703,  98.41840741,  97.28368148,  91.4567363 ,\n",
       "        93.49134726,  97.09826945,  91.41965389, 103.88393078,\n",
       "        68.77678616, 104.15535723, 117.63107145, 118.72621429,\n",
       "        98.94524286,  82.98904857, 101.39780971, 111.47956194,\n",
       "       111.89591239, 110.37918248, 107.6758365 , 126.3351673 ,\n",
       "       126.86703346, 136.57340669, 144.11468134, 165.62293627,\n",
       "       159.52458725, 163.90491745, 167.98098349, 169.5961967 ,\n",
       "       184.31923934, 192.06384787, 187.21276957, 179.84255391,\n",
       "       206.36851078, 201.27370216, 197.05474043, 209.01094809,\n",
       "       173.00218962, 192.20043792, 208.04008758, 225.60801752,\n",
       "       224.3216035 , 206.4643207 , 225.29286414, 229.05857283,\n",
       "       223.41171457, 211.08234291, 236.61646858, 239.32329372,\n",
       "       223.06465874, 225.41293175,   0.        ,   0.        ,\n",
       "         0.        ,   0.        ,   0.        ,   0.        ,\n",
       "         0.        ,   0.        ,   0.        ,   0.        ,\n",
       "         0.        ,   0.        ,   0.        ,   0.        ,\n",
       "         0.        ,   0.        ,   0.        ,   0.        ,\n",
       "         0.        ])"
      ]
     },
     "metadata": {},
     "output_type": "display_data"
    },
    {
     "data": {
      "text/plain": [
       "array([  5.        ,   8.2       , 136.84      , 154.568     ,\n",
       "       171.7136    , 187.14272   , 180.628544  , 170.5257088 ,\n",
       "       175.70514176, 163.94102835, 179.18820567, 183.03764113,\n",
       "       175.00752823, 172.60150565, 182.52030113, 174.90406023,\n",
       "       159.78081205, 167.15616241, 175.83123248, 173.5662465 ,\n",
       "       157.1132493 , 161.02264986, 165.80452997, 134.76090599,\n",
       "       155.7521812 , 179.15043624, 162.23008725, 167.64601745,\n",
       "       150.32920349, 173.2658407 , 179.45316814, 158.29063363,\n",
       "       146.85812673, 145.37162535, 159.47432507, 146.29486501,\n",
       "       153.258973  , 170.6517946 , 176.53035892, 175.30607178,\n",
       "       155.86121436, 167.97224287, 168.79444857, 184.15888971,\n",
       "       139.23177794, 225.44635559, 181.88927112, 195.57785422,\n",
       "       138.31557084, 106.06311417, 143.61262283, 167.12252457,\n",
       "       167.82450491, 161.56490098, 166.7129802 , 164.54259604,\n",
       "       157.70851921, 153.94170384, 153.18834077, 161.83766815,\n",
       "       169.96753363, 176.39350673, 175.27870135, 198.25574027,\n",
       "       178.85114805, 187.77022961, 165.55404592, 166.71080918,\n",
       "       158.94216184, 134.98843237, 111.79768647, 107.95953729,\n",
       "       119.19190746, 107.03838149,  97.4076763 ,  93.88153526,\n",
       "        85.17630705,  87.43526141,  83.08705228,  83.81741046,\n",
       "        83.96348209,  82.39269642,  78.07853928,  75.61570786,\n",
       "        85.52314157,  79.50462831,  98.30092566, 108.46018513,\n",
       "       108.09203703,  98.41840741,  97.28368148,  91.4567363 ,\n",
       "        93.49134726,  97.09826945,  91.41965389, 103.88393078,\n",
       "        68.77678616, 104.15535723, 117.63107145, 118.72621429,\n",
       "        98.94524286,  82.98904857, 101.39780971, 111.47956194,\n",
       "       111.89591239, 110.37918248, 107.6758365 , 126.3351673 ,\n",
       "       126.86703346, 136.57340669, 144.11468134, 165.62293627,\n",
       "       159.52458725, 163.90491745, 167.98098349, 169.5961967 ,\n",
       "       184.31923934, 192.06384787, 187.21276957, 179.84255391,\n",
       "       206.36851078, 201.27370216, 197.05474043, 209.01094809,\n",
       "       173.00218962, 192.20043792, 208.04008758, 225.60801752,\n",
       "       224.3216035 , 206.4643207 , 225.29286414, 229.05857283,\n",
       "       223.41171457, 211.08234291, 236.61646858, 239.32329372,\n",
       "       223.06465874, 225.41293175, 245.08258635,   0.        ,\n",
       "         0.        ,   0.        ,   0.        ,   0.        ,\n",
       "         0.        ,   0.        ,   0.        ,   0.        ,\n",
       "         0.        ,   0.        ,   0.        ,   0.        ,\n",
       "         0.        ,   0.        ,   0.        ,   0.        ,\n",
       "         0.        ])"
      ]
     },
     "metadata": {},
     "output_type": "display_data"
    },
    {
     "data": {
      "text/plain": [
       "array([  5.        ,   8.2       , 136.84      , 154.568     ,\n",
       "       171.7136    , 187.14272   , 180.628544  , 170.5257088 ,\n",
       "       175.70514176, 163.94102835, 179.18820567, 183.03764113,\n",
       "       175.00752823, 172.60150565, 182.52030113, 174.90406023,\n",
       "       159.78081205, 167.15616241, 175.83123248, 173.5662465 ,\n",
       "       157.1132493 , 161.02264986, 165.80452997, 134.76090599,\n",
       "       155.7521812 , 179.15043624, 162.23008725, 167.64601745,\n",
       "       150.32920349, 173.2658407 , 179.45316814, 158.29063363,\n",
       "       146.85812673, 145.37162535, 159.47432507, 146.29486501,\n",
       "       153.258973  , 170.6517946 , 176.53035892, 175.30607178,\n",
       "       155.86121436, 167.97224287, 168.79444857, 184.15888971,\n",
       "       139.23177794, 225.44635559, 181.88927112, 195.57785422,\n",
       "       138.31557084, 106.06311417, 143.61262283, 167.12252457,\n",
       "       167.82450491, 161.56490098, 166.7129802 , 164.54259604,\n",
       "       157.70851921, 153.94170384, 153.18834077, 161.83766815,\n",
       "       169.96753363, 176.39350673, 175.27870135, 198.25574027,\n",
       "       178.85114805, 187.77022961, 165.55404592, 166.71080918,\n",
       "       158.94216184, 134.98843237, 111.79768647, 107.95953729,\n",
       "       119.19190746, 107.03838149,  97.4076763 ,  93.88153526,\n",
       "        85.17630705,  87.43526141,  83.08705228,  83.81741046,\n",
       "        83.96348209,  82.39269642,  78.07853928,  75.61570786,\n",
       "        85.52314157,  79.50462831,  98.30092566, 108.46018513,\n",
       "       108.09203703,  98.41840741,  97.28368148,  91.4567363 ,\n",
       "        93.49134726,  97.09826945,  91.41965389, 103.88393078,\n",
       "        68.77678616, 104.15535723, 117.63107145, 118.72621429,\n",
       "        98.94524286,  82.98904857, 101.39780971, 111.47956194,\n",
       "       111.89591239, 110.37918248, 107.6758365 , 126.3351673 ,\n",
       "       126.86703346, 136.57340669, 144.11468134, 165.62293627,\n",
       "       159.52458725, 163.90491745, 167.98098349, 169.5961967 ,\n",
       "       184.31923934, 192.06384787, 187.21276957, 179.84255391,\n",
       "       206.36851078, 201.27370216, 197.05474043, 209.01094809,\n",
       "       173.00218962, 192.20043792, 208.04008758, 225.60801752,\n",
       "       224.3216035 , 206.4643207 , 225.29286414, 229.05857283,\n",
       "       223.41171457, 211.08234291, 236.61646858, 239.32329372,\n",
       "       223.06465874, 225.41293175, 245.08258635, 243.41651727,\n",
       "         0.        ,   0.        ,   0.        ,   0.        ,\n",
       "         0.        ,   0.        ,   0.        ,   0.        ,\n",
       "         0.        ,   0.        ,   0.        ,   0.        ,\n",
       "         0.        ,   0.        ,   0.        ,   0.        ,\n",
       "         0.        ])"
      ]
     },
     "metadata": {},
     "output_type": "display_data"
    },
    {
     "data": {
      "text/plain": [
       "array([  5.        ,   8.2       , 136.84      , 154.568     ,\n",
       "       171.7136    , 187.14272   , 180.628544  , 170.5257088 ,\n",
       "       175.70514176, 163.94102835, 179.18820567, 183.03764113,\n",
       "       175.00752823, 172.60150565, 182.52030113, 174.90406023,\n",
       "       159.78081205, 167.15616241, 175.83123248, 173.5662465 ,\n",
       "       157.1132493 , 161.02264986, 165.80452997, 134.76090599,\n",
       "       155.7521812 , 179.15043624, 162.23008725, 167.64601745,\n",
       "       150.32920349, 173.2658407 , 179.45316814, 158.29063363,\n",
       "       146.85812673, 145.37162535, 159.47432507, 146.29486501,\n",
       "       153.258973  , 170.6517946 , 176.53035892, 175.30607178,\n",
       "       155.86121436, 167.97224287, 168.79444857, 184.15888971,\n",
       "       139.23177794, 225.44635559, 181.88927112, 195.57785422,\n",
       "       138.31557084, 106.06311417, 143.61262283, 167.12252457,\n",
       "       167.82450491, 161.56490098, 166.7129802 , 164.54259604,\n",
       "       157.70851921, 153.94170384, 153.18834077, 161.83766815,\n",
       "       169.96753363, 176.39350673, 175.27870135, 198.25574027,\n",
       "       178.85114805, 187.77022961, 165.55404592, 166.71080918,\n",
       "       158.94216184, 134.98843237, 111.79768647, 107.95953729,\n",
       "       119.19190746, 107.03838149,  97.4076763 ,  93.88153526,\n",
       "        85.17630705,  87.43526141,  83.08705228,  83.81741046,\n",
       "        83.96348209,  82.39269642,  78.07853928,  75.61570786,\n",
       "        85.52314157,  79.50462831,  98.30092566, 108.46018513,\n",
       "       108.09203703,  98.41840741,  97.28368148,  91.4567363 ,\n",
       "        93.49134726,  97.09826945,  91.41965389, 103.88393078,\n",
       "        68.77678616, 104.15535723, 117.63107145, 118.72621429,\n",
       "        98.94524286,  82.98904857, 101.39780971, 111.47956194,\n",
       "       111.89591239, 110.37918248, 107.6758365 , 126.3351673 ,\n",
       "       126.86703346, 136.57340669, 144.11468134, 165.62293627,\n",
       "       159.52458725, 163.90491745, 167.98098349, 169.5961967 ,\n",
       "       184.31923934, 192.06384787, 187.21276957, 179.84255391,\n",
       "       206.36851078, 201.27370216, 197.05474043, 209.01094809,\n",
       "       173.00218962, 192.20043792, 208.04008758, 225.60801752,\n",
       "       224.3216035 , 206.4643207 , 225.29286414, 229.05857283,\n",
       "       223.41171457, 211.08234291, 236.61646858, 239.32329372,\n",
       "       223.06465874, 225.41293175, 245.08258635, 243.41651727,\n",
       "       223.08330345,   0.        ,   0.        ,   0.        ,\n",
       "         0.        ,   0.        ,   0.        ,   0.        ,\n",
       "         0.        ,   0.        ,   0.        ,   0.        ,\n",
       "         0.        ,   0.        ,   0.        ,   0.        ,\n",
       "         0.        ])"
      ]
     },
     "metadata": {},
     "output_type": "display_data"
    },
    {
     "data": {
      "text/plain": [
       "array([  5.        ,   8.2       , 136.84      , 154.568     ,\n",
       "       171.7136    , 187.14272   , 180.628544  , 170.5257088 ,\n",
       "       175.70514176, 163.94102835, 179.18820567, 183.03764113,\n",
       "       175.00752823, 172.60150565, 182.52030113, 174.90406023,\n",
       "       159.78081205, 167.15616241, 175.83123248, 173.5662465 ,\n",
       "       157.1132493 , 161.02264986, 165.80452997, 134.76090599,\n",
       "       155.7521812 , 179.15043624, 162.23008725, 167.64601745,\n",
       "       150.32920349, 173.2658407 , 179.45316814, 158.29063363,\n",
       "       146.85812673, 145.37162535, 159.47432507, 146.29486501,\n",
       "       153.258973  , 170.6517946 , 176.53035892, 175.30607178,\n",
       "       155.86121436, 167.97224287, 168.79444857, 184.15888971,\n",
       "       139.23177794, 225.44635559, 181.88927112, 195.57785422,\n",
       "       138.31557084, 106.06311417, 143.61262283, 167.12252457,\n",
       "       167.82450491, 161.56490098, 166.7129802 , 164.54259604,\n",
       "       157.70851921, 153.94170384, 153.18834077, 161.83766815,\n",
       "       169.96753363, 176.39350673, 175.27870135, 198.25574027,\n",
       "       178.85114805, 187.77022961, 165.55404592, 166.71080918,\n",
       "       158.94216184, 134.98843237, 111.79768647, 107.95953729,\n",
       "       119.19190746, 107.03838149,  97.4076763 ,  93.88153526,\n",
       "        85.17630705,  87.43526141,  83.08705228,  83.81741046,\n",
       "        83.96348209,  82.39269642,  78.07853928,  75.61570786,\n",
       "        85.52314157,  79.50462831,  98.30092566, 108.46018513,\n",
       "       108.09203703,  98.41840741,  97.28368148,  91.4567363 ,\n",
       "        93.49134726,  97.09826945,  91.41965389, 103.88393078,\n",
       "        68.77678616, 104.15535723, 117.63107145, 118.72621429,\n",
       "        98.94524286,  82.98904857, 101.39780971, 111.47956194,\n",
       "       111.89591239, 110.37918248, 107.6758365 , 126.3351673 ,\n",
       "       126.86703346, 136.57340669, 144.11468134, 165.62293627,\n",
       "       159.52458725, 163.90491745, 167.98098349, 169.5961967 ,\n",
       "       184.31923934, 192.06384787, 187.21276957, 179.84255391,\n",
       "       206.36851078, 201.27370216, 197.05474043, 209.01094809,\n",
       "       173.00218962, 192.20043792, 208.04008758, 225.60801752,\n",
       "       224.3216035 , 206.4643207 , 225.29286414, 229.05857283,\n",
       "       223.41171457, 211.08234291, 236.61646858, 239.32329372,\n",
       "       223.06465874, 225.41293175, 245.08258635, 243.41651727,\n",
       "       223.08330345, 242.21666069,   0.        ,   0.        ,\n",
       "         0.        ,   0.        ,   0.        ,   0.        ,\n",
       "         0.        ,   0.        ,   0.        ,   0.        ,\n",
       "         0.        ,   0.        ,   0.        ,   0.        ,\n",
       "         0.        ])"
      ]
     },
     "metadata": {},
     "output_type": "display_data"
    },
    {
     "data": {
      "text/plain": [
       "array([  5.        ,   8.2       , 136.84      , 154.568     ,\n",
       "       171.7136    , 187.14272   , 180.628544  , 170.5257088 ,\n",
       "       175.70514176, 163.94102835, 179.18820567, 183.03764113,\n",
       "       175.00752823, 172.60150565, 182.52030113, 174.90406023,\n",
       "       159.78081205, 167.15616241, 175.83123248, 173.5662465 ,\n",
       "       157.1132493 , 161.02264986, 165.80452997, 134.76090599,\n",
       "       155.7521812 , 179.15043624, 162.23008725, 167.64601745,\n",
       "       150.32920349, 173.2658407 , 179.45316814, 158.29063363,\n",
       "       146.85812673, 145.37162535, 159.47432507, 146.29486501,\n",
       "       153.258973  , 170.6517946 , 176.53035892, 175.30607178,\n",
       "       155.86121436, 167.97224287, 168.79444857, 184.15888971,\n",
       "       139.23177794, 225.44635559, 181.88927112, 195.57785422,\n",
       "       138.31557084, 106.06311417, 143.61262283, 167.12252457,\n",
       "       167.82450491, 161.56490098, 166.7129802 , 164.54259604,\n",
       "       157.70851921, 153.94170384, 153.18834077, 161.83766815,\n",
       "       169.96753363, 176.39350673, 175.27870135, 198.25574027,\n",
       "       178.85114805, 187.77022961, 165.55404592, 166.71080918,\n",
       "       158.94216184, 134.98843237, 111.79768647, 107.95953729,\n",
       "       119.19190746, 107.03838149,  97.4076763 ,  93.88153526,\n",
       "        85.17630705,  87.43526141,  83.08705228,  83.81741046,\n",
       "        83.96348209,  82.39269642,  78.07853928,  75.61570786,\n",
       "        85.52314157,  79.50462831,  98.30092566, 108.46018513,\n",
       "       108.09203703,  98.41840741,  97.28368148,  91.4567363 ,\n",
       "        93.49134726,  97.09826945,  91.41965389, 103.88393078,\n",
       "        68.77678616, 104.15535723, 117.63107145, 118.72621429,\n",
       "        98.94524286,  82.98904857, 101.39780971, 111.47956194,\n",
       "       111.89591239, 110.37918248, 107.6758365 , 126.3351673 ,\n",
       "       126.86703346, 136.57340669, 144.11468134, 165.62293627,\n",
       "       159.52458725, 163.90491745, 167.98098349, 169.5961967 ,\n",
       "       184.31923934, 192.06384787, 187.21276957, 179.84255391,\n",
       "       206.36851078, 201.27370216, 197.05474043, 209.01094809,\n",
       "       173.00218962, 192.20043792, 208.04008758, 225.60801752,\n",
       "       224.3216035 , 206.4643207 , 225.29286414, 229.05857283,\n",
       "       223.41171457, 211.08234291, 236.61646858, 239.32329372,\n",
       "       223.06465874, 225.41293175, 245.08258635, 243.41651727,\n",
       "       223.08330345, 242.21666069, 241.24333214,   0.        ,\n",
       "         0.        ,   0.        ,   0.        ,   0.        ,\n",
       "         0.        ,   0.        ,   0.        ,   0.        ,\n",
       "         0.        ,   0.        ,   0.        ,   0.        ,\n",
       "         0.        ])"
      ]
     },
     "metadata": {},
     "output_type": "display_data"
    },
    {
     "data": {
      "text/plain": [
       "array([  5.        ,   8.2       , 136.84      , 154.568     ,\n",
       "       171.7136    , 187.14272   , 180.628544  , 170.5257088 ,\n",
       "       175.70514176, 163.94102835, 179.18820567, 183.03764113,\n",
       "       175.00752823, 172.60150565, 182.52030113, 174.90406023,\n",
       "       159.78081205, 167.15616241, 175.83123248, 173.5662465 ,\n",
       "       157.1132493 , 161.02264986, 165.80452997, 134.76090599,\n",
       "       155.7521812 , 179.15043624, 162.23008725, 167.64601745,\n",
       "       150.32920349, 173.2658407 , 179.45316814, 158.29063363,\n",
       "       146.85812673, 145.37162535, 159.47432507, 146.29486501,\n",
       "       153.258973  , 170.6517946 , 176.53035892, 175.30607178,\n",
       "       155.86121436, 167.97224287, 168.79444857, 184.15888971,\n",
       "       139.23177794, 225.44635559, 181.88927112, 195.57785422,\n",
       "       138.31557084, 106.06311417, 143.61262283, 167.12252457,\n",
       "       167.82450491, 161.56490098, 166.7129802 , 164.54259604,\n",
       "       157.70851921, 153.94170384, 153.18834077, 161.83766815,\n",
       "       169.96753363, 176.39350673, 175.27870135, 198.25574027,\n",
       "       178.85114805, 187.77022961, 165.55404592, 166.71080918,\n",
       "       158.94216184, 134.98843237, 111.79768647, 107.95953729,\n",
       "       119.19190746, 107.03838149,  97.4076763 ,  93.88153526,\n",
       "        85.17630705,  87.43526141,  83.08705228,  83.81741046,\n",
       "        83.96348209,  82.39269642,  78.07853928,  75.61570786,\n",
       "        85.52314157,  79.50462831,  98.30092566, 108.46018513,\n",
       "       108.09203703,  98.41840741,  97.28368148,  91.4567363 ,\n",
       "        93.49134726,  97.09826945,  91.41965389, 103.88393078,\n",
       "        68.77678616, 104.15535723, 117.63107145, 118.72621429,\n",
       "        98.94524286,  82.98904857, 101.39780971, 111.47956194,\n",
       "       111.89591239, 110.37918248, 107.6758365 , 126.3351673 ,\n",
       "       126.86703346, 136.57340669, 144.11468134, 165.62293627,\n",
       "       159.52458725, 163.90491745, 167.98098349, 169.5961967 ,\n",
       "       184.31923934, 192.06384787, 187.21276957, 179.84255391,\n",
       "       206.36851078, 201.27370216, 197.05474043, 209.01094809,\n",
       "       173.00218962, 192.20043792, 208.04008758, 225.60801752,\n",
       "       224.3216035 , 206.4643207 , 225.29286414, 229.05857283,\n",
       "       223.41171457, 211.08234291, 236.61646858, 239.32329372,\n",
       "       223.06465874, 225.41293175, 245.08258635, 243.41651727,\n",
       "       223.08330345, 242.21666069, 241.24333214, 239.44866643,\n",
       "         0.        ,   0.        ,   0.        ,   0.        ,\n",
       "         0.        ,   0.        ,   0.        ,   0.        ,\n",
       "         0.        ,   0.        ,   0.        ,   0.        ,\n",
       "         0.        ])"
      ]
     },
     "metadata": {},
     "output_type": "display_data"
    },
    {
     "data": {
      "text/plain": [
       "array([  5.        ,   8.2       , 136.84      , 154.568     ,\n",
       "       171.7136    , 187.14272   , 180.628544  , 170.5257088 ,\n",
       "       175.70514176, 163.94102835, 179.18820567, 183.03764113,\n",
       "       175.00752823, 172.60150565, 182.52030113, 174.90406023,\n",
       "       159.78081205, 167.15616241, 175.83123248, 173.5662465 ,\n",
       "       157.1132493 , 161.02264986, 165.80452997, 134.76090599,\n",
       "       155.7521812 , 179.15043624, 162.23008725, 167.64601745,\n",
       "       150.32920349, 173.2658407 , 179.45316814, 158.29063363,\n",
       "       146.85812673, 145.37162535, 159.47432507, 146.29486501,\n",
       "       153.258973  , 170.6517946 , 176.53035892, 175.30607178,\n",
       "       155.86121436, 167.97224287, 168.79444857, 184.15888971,\n",
       "       139.23177794, 225.44635559, 181.88927112, 195.57785422,\n",
       "       138.31557084, 106.06311417, 143.61262283, 167.12252457,\n",
       "       167.82450491, 161.56490098, 166.7129802 , 164.54259604,\n",
       "       157.70851921, 153.94170384, 153.18834077, 161.83766815,\n",
       "       169.96753363, 176.39350673, 175.27870135, 198.25574027,\n",
       "       178.85114805, 187.77022961, 165.55404592, 166.71080918,\n",
       "       158.94216184, 134.98843237, 111.79768647, 107.95953729,\n",
       "       119.19190746, 107.03838149,  97.4076763 ,  93.88153526,\n",
       "        85.17630705,  87.43526141,  83.08705228,  83.81741046,\n",
       "        83.96348209,  82.39269642,  78.07853928,  75.61570786,\n",
       "        85.52314157,  79.50462831,  98.30092566, 108.46018513,\n",
       "       108.09203703,  98.41840741,  97.28368148,  91.4567363 ,\n",
       "        93.49134726,  97.09826945,  91.41965389, 103.88393078,\n",
       "        68.77678616, 104.15535723, 117.63107145, 118.72621429,\n",
       "        98.94524286,  82.98904857, 101.39780971, 111.47956194,\n",
       "       111.89591239, 110.37918248, 107.6758365 , 126.3351673 ,\n",
       "       126.86703346, 136.57340669, 144.11468134, 165.62293627,\n",
       "       159.52458725, 163.90491745, 167.98098349, 169.5961967 ,\n",
       "       184.31923934, 192.06384787, 187.21276957, 179.84255391,\n",
       "       206.36851078, 201.27370216, 197.05474043, 209.01094809,\n",
       "       173.00218962, 192.20043792, 208.04008758, 225.60801752,\n",
       "       224.3216035 , 206.4643207 , 225.29286414, 229.05857283,\n",
       "       223.41171457, 211.08234291, 236.61646858, 239.32329372,\n",
       "       223.06465874, 225.41293175, 245.08258635, 243.41651727,\n",
       "       223.08330345, 242.21666069, 241.24333214, 239.44866643,\n",
       "       237.48973329,   0.        ,   0.        ,   0.        ,\n",
       "         0.        ,   0.        ,   0.        ,   0.        ,\n",
       "         0.        ,   0.        ,   0.        ,   0.        ,\n",
       "         0.        ])"
      ]
     },
     "metadata": {},
     "output_type": "display_data"
    },
    {
     "data": {
      "text/plain": [
       "array([  5.        ,   8.2       , 136.84      , 154.568     ,\n",
       "       171.7136    , 187.14272   , 180.628544  , 170.5257088 ,\n",
       "       175.70514176, 163.94102835, 179.18820567, 183.03764113,\n",
       "       175.00752823, 172.60150565, 182.52030113, 174.90406023,\n",
       "       159.78081205, 167.15616241, 175.83123248, 173.5662465 ,\n",
       "       157.1132493 , 161.02264986, 165.80452997, 134.76090599,\n",
       "       155.7521812 , 179.15043624, 162.23008725, 167.64601745,\n",
       "       150.32920349, 173.2658407 , 179.45316814, 158.29063363,\n",
       "       146.85812673, 145.37162535, 159.47432507, 146.29486501,\n",
       "       153.258973  , 170.6517946 , 176.53035892, 175.30607178,\n",
       "       155.86121436, 167.97224287, 168.79444857, 184.15888971,\n",
       "       139.23177794, 225.44635559, 181.88927112, 195.57785422,\n",
       "       138.31557084, 106.06311417, 143.61262283, 167.12252457,\n",
       "       167.82450491, 161.56490098, 166.7129802 , 164.54259604,\n",
       "       157.70851921, 153.94170384, 153.18834077, 161.83766815,\n",
       "       169.96753363, 176.39350673, 175.27870135, 198.25574027,\n",
       "       178.85114805, 187.77022961, 165.55404592, 166.71080918,\n",
       "       158.94216184, 134.98843237, 111.79768647, 107.95953729,\n",
       "       119.19190746, 107.03838149,  97.4076763 ,  93.88153526,\n",
       "        85.17630705,  87.43526141,  83.08705228,  83.81741046,\n",
       "        83.96348209,  82.39269642,  78.07853928,  75.61570786,\n",
       "        85.52314157,  79.50462831,  98.30092566, 108.46018513,\n",
       "       108.09203703,  98.41840741,  97.28368148,  91.4567363 ,\n",
       "        93.49134726,  97.09826945,  91.41965389, 103.88393078,\n",
       "        68.77678616, 104.15535723, 117.63107145, 118.72621429,\n",
       "        98.94524286,  82.98904857, 101.39780971, 111.47956194,\n",
       "       111.89591239, 110.37918248, 107.6758365 , 126.3351673 ,\n",
       "       126.86703346, 136.57340669, 144.11468134, 165.62293627,\n",
       "       159.52458725, 163.90491745, 167.98098349, 169.5961967 ,\n",
       "       184.31923934, 192.06384787, 187.21276957, 179.84255391,\n",
       "       206.36851078, 201.27370216, 197.05474043, 209.01094809,\n",
       "       173.00218962, 192.20043792, 208.04008758, 225.60801752,\n",
       "       224.3216035 , 206.4643207 , 225.29286414, 229.05857283,\n",
       "       223.41171457, 211.08234291, 236.61646858, 239.32329372,\n",
       "       223.06465874, 225.41293175, 245.08258635, 243.41651727,\n",
       "       223.08330345, 242.21666069, 241.24333214, 239.44866643,\n",
       "       237.48973329, 218.69794666,   0.        ,   0.        ,\n",
       "         0.        ,   0.        ,   0.        ,   0.        ,\n",
       "         0.        ,   0.        ,   0.        ,   0.        ,\n",
       "         0.        ])"
      ]
     },
     "metadata": {},
     "output_type": "display_data"
    },
    {
     "data": {
      "text/plain": [
       "array([  5.        ,   8.2       , 136.84      , 154.568     ,\n",
       "       171.7136    , 187.14272   , 180.628544  , 170.5257088 ,\n",
       "       175.70514176, 163.94102835, 179.18820567, 183.03764113,\n",
       "       175.00752823, 172.60150565, 182.52030113, 174.90406023,\n",
       "       159.78081205, 167.15616241, 175.83123248, 173.5662465 ,\n",
       "       157.1132493 , 161.02264986, 165.80452997, 134.76090599,\n",
       "       155.7521812 , 179.15043624, 162.23008725, 167.64601745,\n",
       "       150.32920349, 173.2658407 , 179.45316814, 158.29063363,\n",
       "       146.85812673, 145.37162535, 159.47432507, 146.29486501,\n",
       "       153.258973  , 170.6517946 , 176.53035892, 175.30607178,\n",
       "       155.86121436, 167.97224287, 168.79444857, 184.15888971,\n",
       "       139.23177794, 225.44635559, 181.88927112, 195.57785422,\n",
       "       138.31557084, 106.06311417, 143.61262283, 167.12252457,\n",
       "       167.82450491, 161.56490098, 166.7129802 , 164.54259604,\n",
       "       157.70851921, 153.94170384, 153.18834077, 161.83766815,\n",
       "       169.96753363, 176.39350673, 175.27870135, 198.25574027,\n",
       "       178.85114805, 187.77022961, 165.55404592, 166.71080918,\n",
       "       158.94216184, 134.98843237, 111.79768647, 107.95953729,\n",
       "       119.19190746, 107.03838149,  97.4076763 ,  93.88153526,\n",
       "        85.17630705,  87.43526141,  83.08705228,  83.81741046,\n",
       "        83.96348209,  82.39269642,  78.07853928,  75.61570786,\n",
       "        85.52314157,  79.50462831,  98.30092566, 108.46018513,\n",
       "       108.09203703,  98.41840741,  97.28368148,  91.4567363 ,\n",
       "        93.49134726,  97.09826945,  91.41965389, 103.88393078,\n",
       "        68.77678616, 104.15535723, 117.63107145, 118.72621429,\n",
       "        98.94524286,  82.98904857, 101.39780971, 111.47956194,\n",
       "       111.89591239, 110.37918248, 107.6758365 , 126.3351673 ,\n",
       "       126.86703346, 136.57340669, 144.11468134, 165.62293627,\n",
       "       159.52458725, 163.90491745, 167.98098349, 169.5961967 ,\n",
       "       184.31923934, 192.06384787, 187.21276957, 179.84255391,\n",
       "       206.36851078, 201.27370216, 197.05474043, 209.01094809,\n",
       "       173.00218962, 192.20043792, 208.04008758, 225.60801752,\n",
       "       224.3216035 , 206.4643207 , 225.29286414, 229.05857283,\n",
       "       223.41171457, 211.08234291, 236.61646858, 239.32329372,\n",
       "       223.06465874, 225.41293175, 245.08258635, 243.41651727,\n",
       "       223.08330345, 242.21666069, 241.24333214, 239.44866643,\n",
       "       237.48973329, 218.69794666, 211.73958933,   0.        ,\n",
       "         0.        ,   0.        ,   0.        ,   0.        ,\n",
       "         0.        ,   0.        ,   0.        ,   0.        ,\n",
       "         0.        ])"
      ]
     },
     "metadata": {},
     "output_type": "display_data"
    },
    {
     "data": {
      "text/plain": [
       "array([  5.        ,   8.2       , 136.84      , 154.568     ,\n",
       "       171.7136    , 187.14272   , 180.628544  , 170.5257088 ,\n",
       "       175.70514176, 163.94102835, 179.18820567, 183.03764113,\n",
       "       175.00752823, 172.60150565, 182.52030113, 174.90406023,\n",
       "       159.78081205, 167.15616241, 175.83123248, 173.5662465 ,\n",
       "       157.1132493 , 161.02264986, 165.80452997, 134.76090599,\n",
       "       155.7521812 , 179.15043624, 162.23008725, 167.64601745,\n",
       "       150.32920349, 173.2658407 , 179.45316814, 158.29063363,\n",
       "       146.85812673, 145.37162535, 159.47432507, 146.29486501,\n",
       "       153.258973  , 170.6517946 , 176.53035892, 175.30607178,\n",
       "       155.86121436, 167.97224287, 168.79444857, 184.15888971,\n",
       "       139.23177794, 225.44635559, 181.88927112, 195.57785422,\n",
       "       138.31557084, 106.06311417, 143.61262283, 167.12252457,\n",
       "       167.82450491, 161.56490098, 166.7129802 , 164.54259604,\n",
       "       157.70851921, 153.94170384, 153.18834077, 161.83766815,\n",
       "       169.96753363, 176.39350673, 175.27870135, 198.25574027,\n",
       "       178.85114805, 187.77022961, 165.55404592, 166.71080918,\n",
       "       158.94216184, 134.98843237, 111.79768647, 107.95953729,\n",
       "       119.19190746, 107.03838149,  97.4076763 ,  93.88153526,\n",
       "        85.17630705,  87.43526141,  83.08705228,  83.81741046,\n",
       "        83.96348209,  82.39269642,  78.07853928,  75.61570786,\n",
       "        85.52314157,  79.50462831,  98.30092566, 108.46018513,\n",
       "       108.09203703,  98.41840741,  97.28368148,  91.4567363 ,\n",
       "        93.49134726,  97.09826945,  91.41965389, 103.88393078,\n",
       "        68.77678616, 104.15535723, 117.63107145, 118.72621429,\n",
       "        98.94524286,  82.98904857, 101.39780971, 111.47956194,\n",
       "       111.89591239, 110.37918248, 107.6758365 , 126.3351673 ,\n",
       "       126.86703346, 136.57340669, 144.11468134, 165.62293627,\n",
       "       159.52458725, 163.90491745, 167.98098349, 169.5961967 ,\n",
       "       184.31923934, 192.06384787, 187.21276957, 179.84255391,\n",
       "       206.36851078, 201.27370216, 197.05474043, 209.01094809,\n",
       "       173.00218962, 192.20043792, 208.04008758, 225.60801752,\n",
       "       224.3216035 , 206.4643207 , 225.29286414, 229.05857283,\n",
       "       223.41171457, 211.08234291, 236.61646858, 239.32329372,\n",
       "       223.06465874, 225.41293175, 245.08258635, 243.41651727,\n",
       "       223.08330345, 242.21666069, 241.24333214, 239.44866643,\n",
       "       237.48973329, 218.69794666, 211.73958933, 223.94791787,\n",
       "         0.        ,   0.        ,   0.        ,   0.        ,\n",
       "         0.        ,   0.        ,   0.        ,   0.        ,\n",
       "         0.        ])"
      ]
     },
     "metadata": {},
     "output_type": "display_data"
    },
    {
     "data": {
      "text/plain": [
       "array([  5.        ,   8.2       , 136.84      , 154.568     ,\n",
       "       171.7136    , 187.14272   , 180.628544  , 170.5257088 ,\n",
       "       175.70514176, 163.94102835, 179.18820567, 183.03764113,\n",
       "       175.00752823, 172.60150565, 182.52030113, 174.90406023,\n",
       "       159.78081205, 167.15616241, 175.83123248, 173.5662465 ,\n",
       "       157.1132493 , 161.02264986, 165.80452997, 134.76090599,\n",
       "       155.7521812 , 179.15043624, 162.23008725, 167.64601745,\n",
       "       150.32920349, 173.2658407 , 179.45316814, 158.29063363,\n",
       "       146.85812673, 145.37162535, 159.47432507, 146.29486501,\n",
       "       153.258973  , 170.6517946 , 176.53035892, 175.30607178,\n",
       "       155.86121436, 167.97224287, 168.79444857, 184.15888971,\n",
       "       139.23177794, 225.44635559, 181.88927112, 195.57785422,\n",
       "       138.31557084, 106.06311417, 143.61262283, 167.12252457,\n",
       "       167.82450491, 161.56490098, 166.7129802 , 164.54259604,\n",
       "       157.70851921, 153.94170384, 153.18834077, 161.83766815,\n",
       "       169.96753363, 176.39350673, 175.27870135, 198.25574027,\n",
       "       178.85114805, 187.77022961, 165.55404592, 166.71080918,\n",
       "       158.94216184, 134.98843237, 111.79768647, 107.95953729,\n",
       "       119.19190746, 107.03838149,  97.4076763 ,  93.88153526,\n",
       "        85.17630705,  87.43526141,  83.08705228,  83.81741046,\n",
       "        83.96348209,  82.39269642,  78.07853928,  75.61570786,\n",
       "        85.52314157,  79.50462831,  98.30092566, 108.46018513,\n",
       "       108.09203703,  98.41840741,  97.28368148,  91.4567363 ,\n",
       "        93.49134726,  97.09826945,  91.41965389, 103.88393078,\n",
       "        68.77678616, 104.15535723, 117.63107145, 118.72621429,\n",
       "        98.94524286,  82.98904857, 101.39780971, 111.47956194,\n",
       "       111.89591239, 110.37918248, 107.6758365 , 126.3351673 ,\n",
       "       126.86703346, 136.57340669, 144.11468134, 165.62293627,\n",
       "       159.52458725, 163.90491745, 167.98098349, 169.5961967 ,\n",
       "       184.31923934, 192.06384787, 187.21276957, 179.84255391,\n",
       "       206.36851078, 201.27370216, 197.05474043, 209.01094809,\n",
       "       173.00218962, 192.20043792, 208.04008758, 225.60801752,\n",
       "       224.3216035 , 206.4643207 , 225.29286414, 229.05857283,\n",
       "       223.41171457, 211.08234291, 236.61646858, 239.32329372,\n",
       "       223.06465874, 225.41293175, 245.08258635, 243.41651727,\n",
       "       223.08330345, 242.21666069, 241.24333214, 239.44866643,\n",
       "       237.48973329, 218.69794666, 211.73958933, 223.94791787,\n",
       "       191.18958357,   0.        ,   0.        ,   0.        ,\n",
       "         0.        ,   0.        ,   0.        ,   0.        ,\n",
       "         0.        ])"
      ]
     },
     "metadata": {},
     "output_type": "display_data"
    },
    {
     "data": {
      "text/plain": [
       "array([  5.        ,   8.2       , 136.84      , 154.568     ,\n",
       "       171.7136    , 187.14272   , 180.628544  , 170.5257088 ,\n",
       "       175.70514176, 163.94102835, 179.18820567, 183.03764113,\n",
       "       175.00752823, 172.60150565, 182.52030113, 174.90406023,\n",
       "       159.78081205, 167.15616241, 175.83123248, 173.5662465 ,\n",
       "       157.1132493 , 161.02264986, 165.80452997, 134.76090599,\n",
       "       155.7521812 , 179.15043624, 162.23008725, 167.64601745,\n",
       "       150.32920349, 173.2658407 , 179.45316814, 158.29063363,\n",
       "       146.85812673, 145.37162535, 159.47432507, 146.29486501,\n",
       "       153.258973  , 170.6517946 , 176.53035892, 175.30607178,\n",
       "       155.86121436, 167.97224287, 168.79444857, 184.15888971,\n",
       "       139.23177794, 225.44635559, 181.88927112, 195.57785422,\n",
       "       138.31557084, 106.06311417, 143.61262283, 167.12252457,\n",
       "       167.82450491, 161.56490098, 166.7129802 , 164.54259604,\n",
       "       157.70851921, 153.94170384, 153.18834077, 161.83766815,\n",
       "       169.96753363, 176.39350673, 175.27870135, 198.25574027,\n",
       "       178.85114805, 187.77022961, 165.55404592, 166.71080918,\n",
       "       158.94216184, 134.98843237, 111.79768647, 107.95953729,\n",
       "       119.19190746, 107.03838149,  97.4076763 ,  93.88153526,\n",
       "        85.17630705,  87.43526141,  83.08705228,  83.81741046,\n",
       "        83.96348209,  82.39269642,  78.07853928,  75.61570786,\n",
       "        85.52314157,  79.50462831,  98.30092566, 108.46018513,\n",
       "       108.09203703,  98.41840741,  97.28368148,  91.4567363 ,\n",
       "        93.49134726,  97.09826945,  91.41965389, 103.88393078,\n",
       "        68.77678616, 104.15535723, 117.63107145, 118.72621429,\n",
       "        98.94524286,  82.98904857, 101.39780971, 111.47956194,\n",
       "       111.89591239, 110.37918248, 107.6758365 , 126.3351673 ,\n",
       "       126.86703346, 136.57340669, 144.11468134, 165.62293627,\n",
       "       159.52458725, 163.90491745, 167.98098349, 169.5961967 ,\n",
       "       184.31923934, 192.06384787, 187.21276957, 179.84255391,\n",
       "       206.36851078, 201.27370216, 197.05474043, 209.01094809,\n",
       "       173.00218962, 192.20043792, 208.04008758, 225.60801752,\n",
       "       224.3216035 , 206.4643207 , 225.29286414, 229.05857283,\n",
       "       223.41171457, 211.08234291, 236.61646858, 239.32329372,\n",
       "       223.06465874, 225.41293175, 245.08258635, 243.41651727,\n",
       "       223.08330345, 242.21666069, 241.24333214, 239.44866643,\n",
       "       237.48973329, 218.69794666, 211.73958933, 223.94791787,\n",
       "       191.18958357, 218.23791671,   0.        ,   0.        ,\n",
       "         0.        ,   0.        ,   0.        ,   0.        ,\n",
       "         0.        ])"
      ]
     },
     "metadata": {},
     "output_type": "display_data"
    },
    {
     "data": {
      "text/plain": [
       "array([  5.        ,   8.2       , 136.84      , 154.568     ,\n",
       "       171.7136    , 187.14272   , 180.628544  , 170.5257088 ,\n",
       "       175.70514176, 163.94102835, 179.18820567, 183.03764113,\n",
       "       175.00752823, 172.60150565, 182.52030113, 174.90406023,\n",
       "       159.78081205, 167.15616241, 175.83123248, 173.5662465 ,\n",
       "       157.1132493 , 161.02264986, 165.80452997, 134.76090599,\n",
       "       155.7521812 , 179.15043624, 162.23008725, 167.64601745,\n",
       "       150.32920349, 173.2658407 , 179.45316814, 158.29063363,\n",
       "       146.85812673, 145.37162535, 159.47432507, 146.29486501,\n",
       "       153.258973  , 170.6517946 , 176.53035892, 175.30607178,\n",
       "       155.86121436, 167.97224287, 168.79444857, 184.15888971,\n",
       "       139.23177794, 225.44635559, 181.88927112, 195.57785422,\n",
       "       138.31557084, 106.06311417, 143.61262283, 167.12252457,\n",
       "       167.82450491, 161.56490098, 166.7129802 , 164.54259604,\n",
       "       157.70851921, 153.94170384, 153.18834077, 161.83766815,\n",
       "       169.96753363, 176.39350673, 175.27870135, 198.25574027,\n",
       "       178.85114805, 187.77022961, 165.55404592, 166.71080918,\n",
       "       158.94216184, 134.98843237, 111.79768647, 107.95953729,\n",
       "       119.19190746, 107.03838149,  97.4076763 ,  93.88153526,\n",
       "        85.17630705,  87.43526141,  83.08705228,  83.81741046,\n",
       "        83.96348209,  82.39269642,  78.07853928,  75.61570786,\n",
       "        85.52314157,  79.50462831,  98.30092566, 108.46018513,\n",
       "       108.09203703,  98.41840741,  97.28368148,  91.4567363 ,\n",
       "        93.49134726,  97.09826945,  91.41965389, 103.88393078,\n",
       "        68.77678616, 104.15535723, 117.63107145, 118.72621429,\n",
       "        98.94524286,  82.98904857, 101.39780971, 111.47956194,\n",
       "       111.89591239, 110.37918248, 107.6758365 , 126.3351673 ,\n",
       "       126.86703346, 136.57340669, 144.11468134, 165.62293627,\n",
       "       159.52458725, 163.90491745, 167.98098349, 169.5961967 ,\n",
       "       184.31923934, 192.06384787, 187.21276957, 179.84255391,\n",
       "       206.36851078, 201.27370216, 197.05474043, 209.01094809,\n",
       "       173.00218962, 192.20043792, 208.04008758, 225.60801752,\n",
       "       224.3216035 , 206.4643207 , 225.29286414, 229.05857283,\n",
       "       223.41171457, 211.08234291, 236.61646858, 239.32329372,\n",
       "       223.06465874, 225.41293175, 245.08258635, 243.41651727,\n",
       "       223.08330345, 242.21666069, 241.24333214, 239.44866643,\n",
       "       237.48973329, 218.69794666, 211.73958933, 223.94791787,\n",
       "       191.18958357, 218.23791671, 234.84758334,   0.        ,\n",
       "         0.        ,   0.        ,   0.        ,   0.        ,\n",
       "         0.        ])"
      ]
     },
     "metadata": {},
     "output_type": "display_data"
    },
    {
     "data": {
      "text/plain": [
       "array([  5.        ,   8.2       , 136.84      , 154.568     ,\n",
       "       171.7136    , 187.14272   , 180.628544  , 170.5257088 ,\n",
       "       175.70514176, 163.94102835, 179.18820567, 183.03764113,\n",
       "       175.00752823, 172.60150565, 182.52030113, 174.90406023,\n",
       "       159.78081205, 167.15616241, 175.83123248, 173.5662465 ,\n",
       "       157.1132493 , 161.02264986, 165.80452997, 134.76090599,\n",
       "       155.7521812 , 179.15043624, 162.23008725, 167.64601745,\n",
       "       150.32920349, 173.2658407 , 179.45316814, 158.29063363,\n",
       "       146.85812673, 145.37162535, 159.47432507, 146.29486501,\n",
       "       153.258973  , 170.6517946 , 176.53035892, 175.30607178,\n",
       "       155.86121436, 167.97224287, 168.79444857, 184.15888971,\n",
       "       139.23177794, 225.44635559, 181.88927112, 195.57785422,\n",
       "       138.31557084, 106.06311417, 143.61262283, 167.12252457,\n",
       "       167.82450491, 161.56490098, 166.7129802 , 164.54259604,\n",
       "       157.70851921, 153.94170384, 153.18834077, 161.83766815,\n",
       "       169.96753363, 176.39350673, 175.27870135, 198.25574027,\n",
       "       178.85114805, 187.77022961, 165.55404592, 166.71080918,\n",
       "       158.94216184, 134.98843237, 111.79768647, 107.95953729,\n",
       "       119.19190746, 107.03838149,  97.4076763 ,  93.88153526,\n",
       "        85.17630705,  87.43526141,  83.08705228,  83.81741046,\n",
       "        83.96348209,  82.39269642,  78.07853928,  75.61570786,\n",
       "        85.52314157,  79.50462831,  98.30092566, 108.46018513,\n",
       "       108.09203703,  98.41840741,  97.28368148,  91.4567363 ,\n",
       "        93.49134726,  97.09826945,  91.41965389, 103.88393078,\n",
       "        68.77678616, 104.15535723, 117.63107145, 118.72621429,\n",
       "        98.94524286,  82.98904857, 101.39780971, 111.47956194,\n",
       "       111.89591239, 110.37918248, 107.6758365 , 126.3351673 ,\n",
       "       126.86703346, 136.57340669, 144.11468134, 165.62293627,\n",
       "       159.52458725, 163.90491745, 167.98098349, 169.5961967 ,\n",
       "       184.31923934, 192.06384787, 187.21276957, 179.84255391,\n",
       "       206.36851078, 201.27370216, 197.05474043, 209.01094809,\n",
       "       173.00218962, 192.20043792, 208.04008758, 225.60801752,\n",
       "       224.3216035 , 206.4643207 , 225.29286414, 229.05857283,\n",
       "       223.41171457, 211.08234291, 236.61646858, 239.32329372,\n",
       "       223.06465874, 225.41293175, 245.08258635, 243.41651727,\n",
       "       223.08330345, 242.21666069, 241.24333214, 239.44866643,\n",
       "       237.48973329, 218.69794666, 211.73958933, 223.94791787,\n",
       "       191.18958357, 218.23791671, 234.84758334, 234.96951667,\n",
       "         0.        ,   0.        ,   0.        ,   0.        ,\n",
       "         0.        ])"
      ]
     },
     "metadata": {},
     "output_type": "display_data"
    },
    {
     "data": {
      "text/plain": [
       "array([  5.        ,   8.2       , 136.84      , 154.568     ,\n",
       "       171.7136    , 187.14272   , 180.628544  , 170.5257088 ,\n",
       "       175.70514176, 163.94102835, 179.18820567, 183.03764113,\n",
       "       175.00752823, 172.60150565, 182.52030113, 174.90406023,\n",
       "       159.78081205, 167.15616241, 175.83123248, 173.5662465 ,\n",
       "       157.1132493 , 161.02264986, 165.80452997, 134.76090599,\n",
       "       155.7521812 , 179.15043624, 162.23008725, 167.64601745,\n",
       "       150.32920349, 173.2658407 , 179.45316814, 158.29063363,\n",
       "       146.85812673, 145.37162535, 159.47432507, 146.29486501,\n",
       "       153.258973  , 170.6517946 , 176.53035892, 175.30607178,\n",
       "       155.86121436, 167.97224287, 168.79444857, 184.15888971,\n",
       "       139.23177794, 225.44635559, 181.88927112, 195.57785422,\n",
       "       138.31557084, 106.06311417, 143.61262283, 167.12252457,\n",
       "       167.82450491, 161.56490098, 166.7129802 , 164.54259604,\n",
       "       157.70851921, 153.94170384, 153.18834077, 161.83766815,\n",
       "       169.96753363, 176.39350673, 175.27870135, 198.25574027,\n",
       "       178.85114805, 187.77022961, 165.55404592, 166.71080918,\n",
       "       158.94216184, 134.98843237, 111.79768647, 107.95953729,\n",
       "       119.19190746, 107.03838149,  97.4076763 ,  93.88153526,\n",
       "        85.17630705,  87.43526141,  83.08705228,  83.81741046,\n",
       "        83.96348209,  82.39269642,  78.07853928,  75.61570786,\n",
       "        85.52314157,  79.50462831,  98.30092566, 108.46018513,\n",
       "       108.09203703,  98.41840741,  97.28368148,  91.4567363 ,\n",
       "        93.49134726,  97.09826945,  91.41965389, 103.88393078,\n",
       "        68.77678616, 104.15535723, 117.63107145, 118.72621429,\n",
       "        98.94524286,  82.98904857, 101.39780971, 111.47956194,\n",
       "       111.89591239, 110.37918248, 107.6758365 , 126.3351673 ,\n",
       "       126.86703346, 136.57340669, 144.11468134, 165.62293627,\n",
       "       159.52458725, 163.90491745, 167.98098349, 169.5961967 ,\n",
       "       184.31923934, 192.06384787, 187.21276957, 179.84255391,\n",
       "       206.36851078, 201.27370216, 197.05474043, 209.01094809,\n",
       "       173.00218962, 192.20043792, 208.04008758, 225.60801752,\n",
       "       224.3216035 , 206.4643207 , 225.29286414, 229.05857283,\n",
       "       223.41171457, 211.08234291, 236.61646858, 239.32329372,\n",
       "       223.06465874, 225.41293175, 245.08258635, 243.41651727,\n",
       "       223.08330345, 242.21666069, 241.24333214, 239.44866643,\n",
       "       237.48973329, 218.69794666, 211.73958933, 223.94791787,\n",
       "       191.18958357, 218.23791671, 234.84758334, 234.96951667,\n",
       "       217.39390333,   0.        ,   0.        ,   0.        ,\n",
       "         0.        ])"
      ]
     },
     "metadata": {},
     "output_type": "display_data"
    },
    {
     "data": {
      "text/plain": [
       "array([  5.        ,   8.2       , 136.84      , 154.568     ,\n",
       "       171.7136    , 187.14272   , 180.628544  , 170.5257088 ,\n",
       "       175.70514176, 163.94102835, 179.18820567, 183.03764113,\n",
       "       175.00752823, 172.60150565, 182.52030113, 174.90406023,\n",
       "       159.78081205, 167.15616241, 175.83123248, 173.5662465 ,\n",
       "       157.1132493 , 161.02264986, 165.80452997, 134.76090599,\n",
       "       155.7521812 , 179.15043624, 162.23008725, 167.64601745,\n",
       "       150.32920349, 173.2658407 , 179.45316814, 158.29063363,\n",
       "       146.85812673, 145.37162535, 159.47432507, 146.29486501,\n",
       "       153.258973  , 170.6517946 , 176.53035892, 175.30607178,\n",
       "       155.86121436, 167.97224287, 168.79444857, 184.15888971,\n",
       "       139.23177794, 225.44635559, 181.88927112, 195.57785422,\n",
       "       138.31557084, 106.06311417, 143.61262283, 167.12252457,\n",
       "       167.82450491, 161.56490098, 166.7129802 , 164.54259604,\n",
       "       157.70851921, 153.94170384, 153.18834077, 161.83766815,\n",
       "       169.96753363, 176.39350673, 175.27870135, 198.25574027,\n",
       "       178.85114805, 187.77022961, 165.55404592, 166.71080918,\n",
       "       158.94216184, 134.98843237, 111.79768647, 107.95953729,\n",
       "       119.19190746, 107.03838149,  97.4076763 ,  93.88153526,\n",
       "        85.17630705,  87.43526141,  83.08705228,  83.81741046,\n",
       "        83.96348209,  82.39269642,  78.07853928,  75.61570786,\n",
       "        85.52314157,  79.50462831,  98.30092566, 108.46018513,\n",
       "       108.09203703,  98.41840741,  97.28368148,  91.4567363 ,\n",
       "        93.49134726,  97.09826945,  91.41965389, 103.88393078,\n",
       "        68.77678616, 104.15535723, 117.63107145, 118.72621429,\n",
       "        98.94524286,  82.98904857, 101.39780971, 111.47956194,\n",
       "       111.89591239, 110.37918248, 107.6758365 , 126.3351673 ,\n",
       "       126.86703346, 136.57340669, 144.11468134, 165.62293627,\n",
       "       159.52458725, 163.90491745, 167.98098349, 169.5961967 ,\n",
       "       184.31923934, 192.06384787, 187.21276957, 179.84255391,\n",
       "       206.36851078, 201.27370216, 197.05474043, 209.01094809,\n",
       "       173.00218962, 192.20043792, 208.04008758, 225.60801752,\n",
       "       224.3216035 , 206.4643207 , 225.29286414, 229.05857283,\n",
       "       223.41171457, 211.08234291, 236.61646858, 239.32329372,\n",
       "       223.06465874, 225.41293175, 245.08258635, 243.41651727,\n",
       "       223.08330345, 242.21666069, 241.24333214, 239.44866643,\n",
       "       237.48973329, 218.69794666, 211.73958933, 223.94791787,\n",
       "       191.18958357, 218.23791671, 234.84758334, 234.96951667,\n",
       "       217.39390333, 185.87878067,   0.        ,   0.        ,\n",
       "         0.        ])"
      ]
     },
     "metadata": {},
     "output_type": "display_data"
    },
    {
     "data": {
      "text/plain": [
       "array([  5.        ,   8.2       , 136.84      , 154.568     ,\n",
       "       171.7136    , 187.14272   , 180.628544  , 170.5257088 ,\n",
       "       175.70514176, 163.94102835, 179.18820567, 183.03764113,\n",
       "       175.00752823, 172.60150565, 182.52030113, 174.90406023,\n",
       "       159.78081205, 167.15616241, 175.83123248, 173.5662465 ,\n",
       "       157.1132493 , 161.02264986, 165.80452997, 134.76090599,\n",
       "       155.7521812 , 179.15043624, 162.23008725, 167.64601745,\n",
       "       150.32920349, 173.2658407 , 179.45316814, 158.29063363,\n",
       "       146.85812673, 145.37162535, 159.47432507, 146.29486501,\n",
       "       153.258973  , 170.6517946 , 176.53035892, 175.30607178,\n",
       "       155.86121436, 167.97224287, 168.79444857, 184.15888971,\n",
       "       139.23177794, 225.44635559, 181.88927112, 195.57785422,\n",
       "       138.31557084, 106.06311417, 143.61262283, 167.12252457,\n",
       "       167.82450491, 161.56490098, 166.7129802 , 164.54259604,\n",
       "       157.70851921, 153.94170384, 153.18834077, 161.83766815,\n",
       "       169.96753363, 176.39350673, 175.27870135, 198.25574027,\n",
       "       178.85114805, 187.77022961, 165.55404592, 166.71080918,\n",
       "       158.94216184, 134.98843237, 111.79768647, 107.95953729,\n",
       "       119.19190746, 107.03838149,  97.4076763 ,  93.88153526,\n",
       "        85.17630705,  87.43526141,  83.08705228,  83.81741046,\n",
       "        83.96348209,  82.39269642,  78.07853928,  75.61570786,\n",
       "        85.52314157,  79.50462831,  98.30092566, 108.46018513,\n",
       "       108.09203703,  98.41840741,  97.28368148,  91.4567363 ,\n",
       "        93.49134726,  97.09826945,  91.41965389, 103.88393078,\n",
       "        68.77678616, 104.15535723, 117.63107145, 118.72621429,\n",
       "        98.94524286,  82.98904857, 101.39780971, 111.47956194,\n",
       "       111.89591239, 110.37918248, 107.6758365 , 126.3351673 ,\n",
       "       126.86703346, 136.57340669, 144.11468134, 165.62293627,\n",
       "       159.52458725, 163.90491745, 167.98098349, 169.5961967 ,\n",
       "       184.31923934, 192.06384787, 187.21276957, 179.84255391,\n",
       "       206.36851078, 201.27370216, 197.05474043, 209.01094809,\n",
       "       173.00218962, 192.20043792, 208.04008758, 225.60801752,\n",
       "       224.3216035 , 206.4643207 , 225.29286414, 229.05857283,\n",
       "       223.41171457, 211.08234291, 236.61646858, 239.32329372,\n",
       "       223.06465874, 225.41293175, 245.08258635, 243.41651727,\n",
       "       223.08330345, 242.21666069, 241.24333214, 239.44866643,\n",
       "       237.48973329, 218.69794666, 211.73958933, 223.94791787,\n",
       "       191.18958357, 218.23791671, 234.84758334, 234.96951667,\n",
       "       217.39390333, 185.87878067, 191.57575613,   0.        ,\n",
       "         0.        ])"
      ]
     },
     "metadata": {},
     "output_type": "display_data"
    },
    {
     "data": {
      "text/plain": [
       "array([  5.        ,   8.2       , 136.84      , 154.568     ,\n",
       "       171.7136    , 187.14272   , 180.628544  , 170.5257088 ,\n",
       "       175.70514176, 163.94102835, 179.18820567, 183.03764113,\n",
       "       175.00752823, 172.60150565, 182.52030113, 174.90406023,\n",
       "       159.78081205, 167.15616241, 175.83123248, 173.5662465 ,\n",
       "       157.1132493 , 161.02264986, 165.80452997, 134.76090599,\n",
       "       155.7521812 , 179.15043624, 162.23008725, 167.64601745,\n",
       "       150.32920349, 173.2658407 , 179.45316814, 158.29063363,\n",
       "       146.85812673, 145.37162535, 159.47432507, 146.29486501,\n",
       "       153.258973  , 170.6517946 , 176.53035892, 175.30607178,\n",
       "       155.86121436, 167.97224287, 168.79444857, 184.15888971,\n",
       "       139.23177794, 225.44635559, 181.88927112, 195.57785422,\n",
       "       138.31557084, 106.06311417, 143.61262283, 167.12252457,\n",
       "       167.82450491, 161.56490098, 166.7129802 , 164.54259604,\n",
       "       157.70851921, 153.94170384, 153.18834077, 161.83766815,\n",
       "       169.96753363, 176.39350673, 175.27870135, 198.25574027,\n",
       "       178.85114805, 187.77022961, 165.55404592, 166.71080918,\n",
       "       158.94216184, 134.98843237, 111.79768647, 107.95953729,\n",
       "       119.19190746, 107.03838149,  97.4076763 ,  93.88153526,\n",
       "        85.17630705,  87.43526141,  83.08705228,  83.81741046,\n",
       "        83.96348209,  82.39269642,  78.07853928,  75.61570786,\n",
       "        85.52314157,  79.50462831,  98.30092566, 108.46018513,\n",
       "       108.09203703,  98.41840741,  97.28368148,  91.4567363 ,\n",
       "        93.49134726,  97.09826945,  91.41965389, 103.88393078,\n",
       "        68.77678616, 104.15535723, 117.63107145, 118.72621429,\n",
       "        98.94524286,  82.98904857, 101.39780971, 111.47956194,\n",
       "       111.89591239, 110.37918248, 107.6758365 , 126.3351673 ,\n",
       "       126.86703346, 136.57340669, 144.11468134, 165.62293627,\n",
       "       159.52458725, 163.90491745, 167.98098349, 169.5961967 ,\n",
       "       184.31923934, 192.06384787, 187.21276957, 179.84255391,\n",
       "       206.36851078, 201.27370216, 197.05474043, 209.01094809,\n",
       "       173.00218962, 192.20043792, 208.04008758, 225.60801752,\n",
       "       224.3216035 , 206.4643207 , 225.29286414, 229.05857283,\n",
       "       223.41171457, 211.08234291, 236.61646858, 239.32329372,\n",
       "       223.06465874, 225.41293175, 245.08258635, 243.41651727,\n",
       "       223.08330345, 242.21666069, 241.24333214, 239.44866643,\n",
       "       237.48973329, 218.69794666, 211.73958933, 223.94791787,\n",
       "       191.18958357, 218.23791671, 234.84758334, 234.96951667,\n",
       "       217.39390333, 185.87878067, 191.57575613, 196.71515123,\n",
       "         0.        ])"
      ]
     },
     "metadata": {},
     "output_type": "display_data"
    }
   ],
   "source": [
    "lambda_ = 0.8 #factor de suavizacion\n",
    "T = len(train) #longitud del training\n",
    "tau = len(validation) # tiempo que se va a pronosticar\n",
    "alpha_lev = 0.05 #significancia para los intervalos de prediccion\n",
    "cpi_forecast = np.zeros(tau) \n",
    "cl = np.zeros(tau)\n",
    "cpi_smooth1 = np.zeros(T + tau)\n",
    "cpi_smooth2 = np.zeros(T + tau)\n",
    "cpi_dates = ts\n",
    "\n",
    "for i in range(1, tau + 1):\n",
    "    cpi_smooth1[:T + i - 1] = firstsmooth(y=cpi_dates.iloc[:T + i - 1], lambda_=lambda_)\n",
    "    cpi_smooth2[:T + i - 1] = firstsmooth(y=cpi_smooth1[:T + i - 1], lambda_=lambda_)\n",
    "    display(cpi_smooth1)\n",
    "    cpi_forecast[i - 1] = (2 + (lambda_ / (1 - lambda_))) * cpi_smooth1[T + i - 2] - \\\n",
    "                          (1 + (lambda_ / (1 - lambda_))) * cpi_smooth2[T + i - 2] # horizon one each time\n",
    "    #cpi_hat = 2 * cpi_smooth1[:T + i - 1] - cpi_smooth2[:T + i - 1]\n",
    "    #cig_est = np.sqrt(np.var(cpi_dates.iloc[1:T + i - 1] - cpi_hat[:-1]))\n",
    "    #cl[i - 1] = norm.ppf(1 - alpha_lev / 2) * sig_est"
   ]
  },
  {
   "cell_type": "code",
   "execution_count": 16,
   "id": "ab902cf6-dd91-44c2-a220-996800415796",
   "metadata": {
    "tags": []
   },
   "outputs": [
    {
     "data": {
      "image/png": "[encoded data removed]",
      "text/plain": [
       "<Figure size 640x480 with 1 Axes>"
      ]
     },
     "metadata": {},
     "output_type": "display_data"
    }
   ],
   "source": [
    "plt.figure()\n",
    "plt.plot(cpi_dates.index[:-tau], cpi_dates.iloc[:-tau].values, marker='o', linestyle='', markersize=3, label='CPI')\n",
    "plt.plot(cpi_dates.index[-tau:], cpi_dates.iloc[-tau:].values, marker='o', markersize=3, color='black')\n",
    "plt.plot(cpi_dates.index[-tau:], cpi_forecast, label='Forecast')\n",
    "#plt.plot(cpi_dates.index[-tau:], cpi_forecast + cl, linestyle='--', color='red', label='Confidence Interval')\n",
    "#plt.plot(cpi_dates.index[-tau:], cpi_forecast - cl, linestyle='--', color='red')\n",
    "plt.legend()\n",
    "plt.xlabel('Date')\n",
    "plt.ylabel('CPI')\n",
    "plt.show()"
   ]
  },
  {
   "cell_type": "code",
   "execution_count": null,
   "id": "b3580936-6feb-44af-95ec-fecff2c97dd6",
   "metadata": {},
   "outputs": [
    {
     "data": {
      "text/plain": [
       "10.649076075406398"
      ]
     },
     "execution_count": 63,
     "metadata": {},
     "output_type": "execute_result"
    }
   ],
   "source": [
    "mape=100*(sum(abs(((validation - cpi_forecast)/validation)))/len(validation))"
   ]
  },
  {
   "cell_type": "code",
   "execution_count": null,
   "id": "93e00476-969a-4c39-8cc7-79902c419bce",
   "metadata": {},
   "outputs": [],
   "source": [
    "#error pronostico validacion\n",
    "#mape"
   ]
  },
  {
   "cell_type": "markdown",
   "id": "28c954a1-5ff1-444f-a035-371580a761ca",
   "metadata": {},
   "source": [
    "## holt winters"
   ]
  },
  {
   "cell_type": "markdown",
   "id": "1dadee24-7fae-4651-b7a5-d86751d7c9f0",
   "metadata": {},
   "source": [
    "## arima"
   ]
  },
  {
   "cell_type": "code",
   "execution_count": 17,
   "id": "4fcf7166-d215-403f-9a3b-07c6cd93ccdd",
   "metadata": {},
   "outputs": [],
   "source": [
    "#seleccion metrica de modelo en arima HQIC"
   ]
  },
  {
   "cell_type": "code",
   "execution_count": 18,
   "id": "87aa852c-511e-4ff6-9850-5987a5635bc6",
   "metadata": {
    "tags": []
   },
   "outputs": [
    {
     "data": {
      "image/png": "[encoded data removed]",
      "text/plain": [
       "<Figure size 550x550 with 2 Axes>"
      ]
     },
     "metadata": {},
     "output_type": "display_data"
    }
   ],
   "source": [
    "train_diff = train.diff(1).dropna()\n",
    "fig, ax = plt.subplots(2, sharex=True)\n",
    "fig.set_size_inches(5.5, 5.5)\n",
    "train.plot(ax=ax[0], color='b')\n",
    "ax[0].set_title('Number of loads booked Jan 2021-Early July 2023')\n",
    "train_diff.plot(ax=ax[1], color='r')\n",
    "ax[1].set_title('First-order differences of Loads Booked during Jan 2021-Early July 2023');"
   ]
  },
  {
   "cell_type": "code",
   "execution_count": 19,
   "id": "8a6a06d6-847a-4fd3-aecf-5fe13999741b",
   "metadata": {
    "tags": []
   },
   "outputs": [
    {
     "data": {
      "text/plain": [
       "1.1653730556084752e-12"
      ]
     },
     "execution_count": 19,
     "metadata": {},
     "output_type": "execute_result"
    }
   ],
   "source": [
    "#H0: La serie no es estacionaria\n",
    "#H1: La serie es estacionaria\n",
    "adf_result = adfuller(train_diff.dropna(), autolag='AIC')\n",
    "adf_result[1]"
   ]
  },
  {
   "cell_type": "code",
   "execution_count": 20,
   "id": "7e220a08-17fd-4213-8ca4-e13688b2a3e5",
   "metadata": {
    "tags": []
   },
   "outputs": [
    {
     "data": {
      "text/plain": [
       "<Figure size 550x550 with 0 Axes>"
      ]
     },
     "metadata": {},
     "output_type": "display_data"
    },
    {
     "data": {
      "image/png": "[encoded data removed]",
      "text/plain": [
       "<Figure size 640x480 with 1 Axes>"
      ]
     },
     "metadata": {},
     "output_type": "display_data"
    }
   ],
   "source": [
    "plt.figure(figsize=(5.5, 5.5));\n",
    "plot_acf(train_diff);"
   ]
  },
  {
   "cell_type": "code",
   "execution_count": 21,
   "id": "92bd1e07-c496-455a-a677-4ea2d573a157",
   "metadata": {
    "tags": []
   },
   "outputs": [
    {
     "data": {
      "text/plain": [
       "<Figure size 550x550 with 0 Axes>"
      ]
     },
     "metadata": {},
     "output_type": "display_data"
    },
    {
     "data": {
      "image/png": "[encoded data removed]",
      "text/plain": [
       "<Figure size 640x480 with 1 Axes>"
      ]
     },
     "metadata": {},
     "output_type": "display_data"
    }
   ],
   "source": [
    "plt.figure(figsize=(5.5, 5.5));\n",
    "plot_pacf(train_diff);"
   ]
  },
  {
   "cell_type": "code",
   "execution_count": 24,
   "id": "5cbad0e2-d217-4188-ab8f-282dd37839dc",
   "metadata": {
    "tags": []
   },
   "outputs": [],
   "source": [
    "def td_array(col):\n",
    "    s = []\n",
    "    for i in col:\n",
    "        a = [1,i]\n",
    "        s.append(a)\n",
    "    return (np.array(s))\n",
    "\n",
    "def assumptions(fit):\n",
    "    \n",
    "    \"\"\"\n",
    "    \n",
    "    Test the errors' assumptions for the VAR Model created.\n",
    "    \n",
    "    Args:\n",
    "        fit (Model): ARIMA Model to test.\n",
    "        \n",
    "    Returns:\n",
    "    \n",
    "        a (Integer): Number of tests that the residuals don't pass.\n",
    "        warning (String): Description of the errors' assumptions tests.\n",
    "        \n",
    "    \"\"\"\n",
    "        \n",
    "    a=0\n",
    "    residuals=fit.resid\n",
    "    \n",
    "    ci=[0.05,0.1,0.15,0.2,0.25]\n",
    "    \n",
    "    for pv in ci:\n",
    "\n",
    "        warning=\"\"\n",
    "        \n",
    "        b_model = td_array(train)\n",
    "        \n",
    "        #homocedasticity\n",
    "        #H0: The residuals are homocedastic.\n",
    "        #H1: The residuals aren't homocedastic.\n",
    "        _, bp_pvalue, _, _ = het_breuschpagan(residuals, b_model)\n",
    "        if bp_pvalue<0.05:\n",
    "            warning=warning + \" The residuals aren't homocedastic\"\n",
    "            a=a+1  \n",
    "            \n",
    "        #normality test\n",
    "        #H0: The residuals have a normal distribution.\n",
    "        #H1: The residuals don't have a normal distribution.\n",
    "        stat, p = shapiro(residuals)\n",
    "        if p<0.05:\n",
    "            stat, p = kstest(residuals, 'norm')\n",
    "            if p<0.05:\n",
    "                a=a+1\n",
    "                warning = warning + \" The residuals do not follow a normal distribution\"\n",
    "        \n",
    "        #independency\n",
    "        #H0: The residuals are independent.\n",
    "        #H1: The residuals aren't independent.\n",
    "        out = durbin_watson(residuals)\n",
    "        if out < 1.5 and out >=2.5:\n",
    "            a=a+1\n",
    "            warning = warning + \" The residuals aren't independent\"\n",
    "        \n",
    "        if a==0:\n",
    "            warning = \"The assumptions made about the residuals are verified with a confidence of \" + str(1-pv) + \".\"\n",
    "            break\n",
    "            \n",
    "    warning = warning + \" in none of the confidence levels.\"\n",
    "        \n",
    "    return a,warning"
   ]
  },
  {
   "cell_type": "code",
   "execution_count": 25,
   "id": "b478f768-3056-451e-a60f-90c47b7f8f09",
   "metadata": {
    "tags": []
   },
   "outputs": [
    {
     "name": "stderr",
     "output_type": "stream",
     "text": [
      "C:\\Users\\karen\\anaconda3\\envs\\myenv\\lib\\site-packages\\statsmodels\\tsa\\base\\tsa_model.py:473: ValueWarning: No frequency information was provided, so inferred frequency W-SUN will be used.\n",
      "  self._init_dates(dates, freq)\n",
      "C:\\Users\\karen\\anaconda3\\envs\\myenv\\lib\\site-packages\\statsmodels\\tsa\\base\\tsa_model.py:473: ValueWarning: No frequency information was provided, so inferred frequency W-SUN will be used.\n",
      "  self._init_dates(dates, freq)\n",
      "C:\\Users\\karen\\anaconda3\\envs\\myenv\\lib\\site-packages\\statsmodels\\tsa\\base\\tsa_model.py:473: ValueWarning: No frequency information was provided, so inferred frequency W-SUN will be used.\n",
      "  self._init_dates(dates, freq)\n",
      "C:\\Users\\karen\\anaconda3\\envs\\myenv\\lib\\site-packages\\statsmodels\\tsa\\base\\tsa_model.py:473: ValueWarning: No frequency information was provided, so inferred frequency W-SUN will be used.\n",
      "  self._init_dates(dates, freq)\n",
      "C:\\Users\\karen\\anaconda3\\envs\\myenv\\lib\\site-packages\\statsmodels\\tsa\\base\\tsa_model.py:473: ValueWarning: No frequency information was provided, so inferred frequency W-SUN will be used.\n",
      "  self._init_dates(dates, freq)\n",
      "C:\\Users\\karen\\anaconda3\\envs\\myenv\\lib\\site-packages\\statsmodels\\tsa\\base\\tsa_model.py:473: ValueWarning: No frequency information was provided, so inferred frequency W-SUN will be used.\n",
      "  self._init_dates(dates, freq)\n",
      "C:\\Users\\karen\\anaconda3\\envs\\myenv\\lib\\site-packages\\statsmodels\\tsa\\base\\tsa_model.py:473: ValueWarning: No frequency information was provided, so inferred frequency W-SUN will be used.\n",
      "  self._init_dates(dates, freq)\n",
      "C:\\Users\\karen\\anaconda3\\envs\\myenv\\lib\\site-packages\\statsmodels\\tsa\\base\\tsa_model.py:473: ValueWarning: No frequency information was provided, so inferred frequency W-SUN will be used.\n",
      "  self._init_dates(dates, freq)\n",
      "C:\\Users\\karen\\anaconda3\\envs\\myenv\\lib\\site-packages\\statsmodels\\tsa\\base\\tsa_model.py:473: ValueWarning: No frequency information was provided, so inferred frequency W-SUN will be used.\n",
      "  self._init_dates(dates, freq)\n",
      "C:\\Users\\karen\\anaconda3\\envs\\myenv\\lib\\site-packages\\statsmodels\\tsa\\base\\tsa_model.py:473: ValueWarning: No frequency information was provided, so inferred frequency W-SUN will be used.\n",
      "  self._init_dates(dates, freq)\n",
      "C:\\Users\\karen\\anaconda3\\envs\\myenv\\lib\\site-packages\\statsmodels\\tsa\\base\\tsa_model.py:473: ValueWarning: No frequency information was provided, so inferred frequency W-SUN will be used.\n",
      "  self._init_dates(dates, freq)\n",
      "C:\\Users\\karen\\anaconda3\\envs\\myenv\\lib\\site-packages\\statsmodels\\tsa\\base\\tsa_model.py:473: ValueWarning: No frequency information was provided, so inferred frequency W-SUN will be used.\n",
      "  self._init_dates(dates, freq)\n",
      "C:\\Users\\karen\\anaconda3\\envs\\myenv\\lib\\site-packages\\statsmodels\\tsa\\base\\tsa_model.py:473: ValueWarning: No frequency information was provided, so inferred frequency W-SUN will be used.\n",
      "  self._init_dates(dates, freq)\n",
      "C:\\Users\\karen\\anaconda3\\envs\\myenv\\lib\\site-packages\\statsmodels\\tsa\\base\\tsa_model.py:473: ValueWarning: No frequency information was provided, so inferred frequency W-SUN will be used.\n",
      "  self._init_dates(dates, freq)\n",
      "C:\\Users\\karen\\anaconda3\\envs\\myenv\\lib\\site-packages\\statsmodels\\tsa\\base\\tsa_model.py:473: ValueWarning: No frequency information was provided, so inferred frequency W-SUN will be used.\n",
      "  self._init_dates(dates, freq)\n",
      "C:\\Users\\karen\\anaconda3\\envs\\myenv\\lib\\site-packages\\statsmodels\\tsa\\base\\tsa_model.py:473: ValueWarning: No frequency information was provided, so inferred frequency W-SUN will be used.\n",
      "  self._init_dates(dates, freq)\n",
      "C:\\Users\\karen\\anaconda3\\envs\\myenv\\lib\\site-packages\\statsmodels\\tsa\\base\\tsa_model.py:473: ValueWarning: No frequency information was provided, so inferred frequency W-SUN will be used.\n",
      "  self._init_dates(dates, freq)\n",
      "C:\\Users\\karen\\anaconda3\\envs\\myenv\\lib\\site-packages\\statsmodels\\tsa\\base\\tsa_model.py:473: ValueWarning: No frequency information was provided, so inferred frequency W-SUN will be used.\n",
      "  self._init_dates(dates, freq)\n",
      "C:\\Users\\karen\\anaconda3\\envs\\myenv\\lib\\site-packages\\statsmodels\\tsa\\base\\tsa_model.py:473: ValueWarning: No frequency information was provided, so inferred frequency W-SUN will be used.\n",
      "  self._init_dates(dates, freq)\n",
      "C:\\Users\\karen\\anaconda3\\envs\\myenv\\lib\\site-packages\\statsmodels\\tsa\\base\\tsa_model.py:473: ValueWarning: No frequency information was provided, so inferred frequency W-SUN will be used.\n",
      "  self._init_dates(dates, freq)\n",
      "C:\\Users\\karen\\anaconda3\\envs\\myenv\\lib\\site-packages\\statsmodels\\tsa\\base\\tsa_model.py:473: ValueWarning: No frequency information was provided, so inferred frequency W-SUN will be used.\n",
      "  self._init_dates(dates, freq)\n",
      "C:\\Users\\karen\\anaconda3\\envs\\myenv\\lib\\site-packages\\statsmodels\\tsa\\base\\tsa_model.py:473: ValueWarning: No frequency information was provided, so inferred frequency W-SUN will be used.\n",
      "  self._init_dates(dates, freq)\n",
      "C:\\Users\\karen\\anaconda3\\envs\\myenv\\lib\\site-packages\\statsmodels\\tsa\\base\\tsa_model.py:473: ValueWarning: No frequency information was provided, so inferred frequency W-SUN will be used.\n",
      "  self._init_dates(dates, freq)\n",
      "C:\\Users\\karen\\anaconda3\\envs\\myenv\\lib\\site-packages\\statsmodels\\tsa\\base\\tsa_model.py:473: ValueWarning: No frequency information was provided, so inferred frequency W-SUN will be used.\n",
      "  self._init_dates(dates, freq)\n",
      "C:\\Users\\karen\\anaconda3\\envs\\myenv\\lib\\site-packages\\statsmodels\\tsa\\base\\tsa_model.py:473: ValueWarning: No frequency information was provided, so inferred frequency W-SUN will be used.\n",
      "  self._init_dates(dates, freq)\n",
      "C:\\Users\\karen\\anaconda3\\envs\\myenv\\lib\\site-packages\\statsmodels\\tsa\\base\\tsa_model.py:473: ValueWarning: No frequency information was provided, so inferred frequency W-SUN will be used.\n",
      "  self._init_dates(dates, freq)\n",
      "C:\\Users\\karen\\anaconda3\\envs\\myenv\\lib\\site-packages\\statsmodels\\tsa\\base\\tsa_model.py:473: ValueWarning: No frequency information was provided, so inferred frequency W-SUN will be used.\n",
      "  self._init_dates(dates, freq)\n",
      "C:\\Users\\karen\\anaconda3\\envs\\myenv\\lib\\site-packages\\statsmodels\\base\\model.py:607: ConvergenceWarning: Maximum Likelihood optimization failed to converge. Check mle_retvals\n",
      "  warnings.warn(\"Maximum Likelihood optimization failed to \"\n"
     ]
    }
   ],
   "source": [
    "hqicVal=[]\n",
    "for ari in range(0, 3): #p\n",
    "    for maj in range(0,3): #q\n",
    "        try:\n",
    "            arima_obj = smtsa.ARIMA(train, order=(ari, 0, maj))\n",
    "            arima_obj_fit=arima_obj.fit()\n",
    "            a, warning = assumptions(arima_obj_fit)\n",
    "            hqicVal.append([ari, 0, maj, arima_obj_fit.hqic, arima_obj_fit.aic, warning])\n",
    "            \n",
    "        except ValueError:\n",
    "            pass"
   ]
  },
  {
   "cell_type": "code",
   "execution_count": 26,
   "id": "834eb9d8-ef88-43c9-b00d-61bf4210736e",
   "metadata": {
    "tags": []
   },
   "outputs": [
    {
     "data": {
      "text/html": [
       "<div>\n",
       "<style scoped>\n",
       "    .dataframe tbody tr th:only-of-type {\n",
       "        vertical-align: middle;\n",
       "    }\n",
       "\n",
       "    .dataframe tbody tr th {\n",
       "        vertical-align: top;\n",
       "    }\n",
       "\n",
       "    .dataframe thead th {\n",
       "        text-align: right;\n",
       "    }\n",
       "</style>\n",
       "<table border=\"1\" class=\"dataframe\">\n",
       "  <thead>\n",
       "    <tr style=\"text-align: right;\">\n",
       "      <th></th>\n",
       "      <th>AR(p)</th>\n",
       "      <th>d</th>\n",
       "      <th>MA(q)</th>\n",
       "      <th>HQIC</th>\n",
       "      <th>AIC</th>\n",
       "      <th>Residuals</th>\n",
       "    </tr>\n",
       "  </thead>\n",
       "  <tbody>\n",
       "    <tr>\n",
       "      <th>0</th>\n",
       "      <td>0</td>\n",
       "      <td>0</td>\n",
       "      <td>0</td>\n",
       "      <td>1341.957086</td>\n",
       "      <td>1339.633087</td>\n",
       "      <td>The residuals aren't homocedastic The residua...</td>\n",
       "    </tr>\n",
       "    <tr>\n",
       "      <th>1</th>\n",
       "      <td>0</td>\n",
       "      <td>0</td>\n",
       "      <td>1</td>\n",
       "      <td>1282.418192</td>\n",
       "      <td>1278.932193</td>\n",
       "      <td>The residuals aren't homocedastic The residua...</td>\n",
       "    </tr>\n",
       "    <tr>\n",
       "      <th>2</th>\n",
       "      <td>0</td>\n",
       "      <td>0</td>\n",
       "      <td>2</td>\n",
       "      <td>1246.384495</td>\n",
       "      <td>1241.736496</td>\n",
       "      <td>The residuals do not follow a normal distribu...</td>\n",
       "    </tr>\n",
       "    <tr>\n",
       "      <th>3</th>\n",
       "      <td>1</td>\n",
       "      <td>0</td>\n",
       "      <td>0</td>\n",
       "      <td>1219.134168</td>\n",
       "      <td>1215.648169</td>\n",
       "      <td>The residuals do not follow a normal distribu...</td>\n",
       "    </tr>\n",
       "    <tr>\n",
       "      <th>4</th>\n",
       "      <td>1</td>\n",
       "      <td>0</td>\n",
       "      <td>1</td>\n",
       "      <td>1213.811186</td>\n",
       "      <td>1209.163187</td>\n",
       "      <td>The residuals do not follow a normal distribu...</td>\n",
       "    </tr>\n",
       "    <tr>\n",
       "      <th>5</th>\n",
       "      <td>1</td>\n",
       "      <td>0</td>\n",
       "      <td>2</td>\n",
       "      <td>1216.574472</td>\n",
       "      <td>1210.764474</td>\n",
       "      <td>The residuals do not follow a normal distribu...</td>\n",
       "    </tr>\n",
       "    <tr>\n",
       "      <th>6</th>\n",
       "      <td>2</td>\n",
       "      <td>0</td>\n",
       "      <td>0</td>\n",
       "      <td>1212.948804</td>\n",
       "      <td>1208.300805</td>\n",
       "      <td>The residuals do not follow a normal distribu...</td>\n",
       "    </tr>\n",
       "    <tr>\n",
       "      <th>7</th>\n",
       "      <td>2</td>\n",
       "      <td>0</td>\n",
       "      <td>1</td>\n",
       "      <td>1215.879361</td>\n",
       "      <td>1210.069362</td>\n",
       "      <td>The residuals do not follow a normal distribu...</td>\n",
       "    </tr>\n",
       "    <tr>\n",
       "      <th>8</th>\n",
       "      <td>2</td>\n",
       "      <td>0</td>\n",
       "      <td>2</td>\n",
       "      <td>1218.926799</td>\n",
       "      <td>1211.954801</td>\n",
       "      <td>The residuals do not follow a normal distribu...</td>\n",
       "    </tr>\n",
       "  </tbody>\n",
       "</table>\n",
       "</div>"
      ],
      "text/plain": [
       "   AR(p)  d  MA(q)         HQIC          AIC  \\\n",
       "0      0  0      0  1341.957086  1339.633087   \n",
       "1      0  0      1  1282.418192  1278.932193   \n",
       "2      0  0      2  1246.384495  1241.736496   \n",
       "3      1  0      0  1219.134168  1215.648169   \n",
       "4      1  0      1  1213.811186  1209.163187   \n",
       "5      1  0      2  1216.574472  1210.764474   \n",
       "6      2  0      0  1212.948804  1208.300805   \n",
       "7      2  0      1  1215.879361  1210.069362   \n",
       "8      2  0      2  1218.926799  1211.954801   \n",
       "\n",
       "                                           Residuals  \n",
       "0   The residuals aren't homocedastic The residua...  \n",
       "1   The residuals aren't homocedastic The residua...  \n",
       "2   The residuals do not follow a normal distribu...  \n",
       "3   The residuals do not follow a normal distribu...  \n",
       "4   The residuals do not follow a normal distribu...  \n",
       "5   The residuals do not follow a normal distribu...  \n",
       "6   The residuals do not follow a normal distribu...  \n",
       "7   The residuals do not follow a normal distribu...  \n",
       "8   The residuals do not follow a normal distribu...  "
      ]
     },
     "execution_count": 26,
     "metadata": {},
     "output_type": "execute_result"
    }
   ],
   "source": [
    "dfHQIC = pd.DataFrame(hqicVal, columns=['AR(p)', 'd', 'MA(q)', 'HQIC', 'AIC', 'Residuals'])\n",
    "dfHQIC"
   ]
  },
  {
   "cell_type": "code",
   "execution_count": 27,
   "id": "ef764d36-cf5c-4885-87eb-128cd294dd54",
   "metadata": {
    "tags": []
   },
   "outputs": [
    {
     "data": {
      "image/png": "[encoded data removed]",
      "text/plain": [
       "<Figure size 800x500 with 1 Axes>"
      ]
     },
     "metadata": {},
     "output_type": "display_data"
    }
   ],
   "source": [
    "# Generar el histograma de la columna 'Variable1'\n",
    "plt.figure(figsize=(8, 5))  # Tamaño de la figura\n",
    "plt.hist(train, bins=10, color='skyblue', edgecolor='black')  # Crear histograma\n",
    "plt.title('Histograma de Variable1')  # Título del gráfico\n",
    "plt.xlabel('Valor')  # Etiqueta del eje X\n",
    "plt.ylabel('Frecuencia')  # Etiqueta del eje Y\n",
    "plt.grid(True)  # Mostrar cuadrícula\n",
    "plt.show()  # Mostrar gráfico"
   ]
  },
  {
   "cell_type": "code",
   "execution_count": 28,
   "id": "1b694d62-def0-42b9-90b3-a3cb3e093591",
   "metadata": {
    "tags": []
   },
   "outputs": [],
   "source": [
    "ts_log = np.log(ts)"
   ]
  },
  {
   "cell_type": "code",
   "execution_count": 29,
   "id": "c7d069ef-df5f-42d1-8102-6467fc4ab2d1",
   "metadata": {
    "tags": []
   },
   "outputs": [],
   "source": [
    "train, validation, test = split(ts_log, 0.7)"
   ]
  },
  {
   "cell_type": "code",
   "execution_count": 30,
   "id": "f34c59f9-4f9e-4986-8b61-6bbc86e0607c",
   "metadata": {
    "tags": []
   },
   "outputs": [
    {
     "name": "stderr",
     "output_type": "stream",
     "text": [
      "C:\\Users\\karen\\anaconda3\\envs\\myenv\\lib\\site-packages\\statsmodels\\tsa\\base\\tsa_model.py:473: ValueWarning: No frequency information was provided, so inferred frequency W-SUN will be used.\n",
      "  self._init_dates(dates, freq)\n",
      "C:\\Users\\karen\\anaconda3\\envs\\myenv\\lib\\site-packages\\statsmodels\\tsa\\base\\tsa_model.py:473: ValueWarning: No frequency information was provided, so inferred frequency W-SUN will be used.\n",
      "  self._init_dates(dates, freq)\n",
      "C:\\Users\\karen\\anaconda3\\envs\\myenv\\lib\\site-packages\\statsmodels\\tsa\\base\\tsa_model.py:473: ValueWarning: No frequency information was provided, so inferred frequency W-SUN will be used.\n",
      "  self._init_dates(dates, freq)\n",
      "C:\\Users\\karen\\anaconda3\\envs\\myenv\\lib\\site-packages\\statsmodels\\tsa\\base\\tsa_model.py:473: ValueWarning: No frequency information was provided, so inferred frequency W-SUN will be used.\n",
      "  self._init_dates(dates, freq)\n",
      "C:\\Users\\karen\\anaconda3\\envs\\myenv\\lib\\site-packages\\statsmodels\\tsa\\base\\tsa_model.py:473: ValueWarning: No frequency information was provided, so inferred frequency W-SUN will be used.\n",
      "  self._init_dates(dates, freq)\n",
      "C:\\Users\\karen\\anaconda3\\envs\\myenv\\lib\\site-packages\\statsmodels\\tsa\\base\\tsa_model.py:473: ValueWarning: No frequency information was provided, so inferred frequency W-SUN will be used.\n",
      "  self._init_dates(dates, freq)\n",
      "C:\\Users\\karen\\anaconda3\\envs\\myenv\\lib\\site-packages\\statsmodels\\tsa\\base\\tsa_model.py:473: ValueWarning: No frequency information was provided, so inferred frequency W-SUN will be used.\n",
      "  self._init_dates(dates, freq)\n",
      "C:\\Users\\karen\\anaconda3\\envs\\myenv\\lib\\site-packages\\statsmodels\\tsa\\base\\tsa_model.py:473: ValueWarning: No frequency information was provided, so inferred frequency W-SUN will be used.\n",
      "  self._init_dates(dates, freq)\n",
      "C:\\Users\\karen\\anaconda3\\envs\\myenv\\lib\\site-packages\\statsmodels\\tsa\\base\\tsa_model.py:473: ValueWarning: No frequency information was provided, so inferred frequency W-SUN will be used.\n",
      "  self._init_dates(dates, freq)\n",
      "C:\\Users\\karen\\anaconda3\\envs\\myenv\\lib\\site-packages\\statsmodels\\tsa\\base\\tsa_model.py:473: ValueWarning: No frequency information was provided, so inferred frequency W-SUN will be used.\n",
      "  self._init_dates(dates, freq)\n",
      "C:\\Users\\karen\\anaconda3\\envs\\myenv\\lib\\site-packages\\statsmodels\\tsa\\base\\tsa_model.py:473: ValueWarning: No frequency information was provided, so inferred frequency W-SUN will be used.\n",
      "  self._init_dates(dates, freq)\n",
      "C:\\Users\\karen\\anaconda3\\envs\\myenv\\lib\\site-packages\\statsmodels\\tsa\\base\\tsa_model.py:473: ValueWarning: No frequency information was provided, so inferred frequency W-SUN will be used.\n",
      "  self._init_dates(dates, freq)\n",
      "C:\\Users\\karen\\anaconda3\\envs\\myenv\\lib\\site-packages\\statsmodels\\tsa\\base\\tsa_model.py:473: ValueWarning: No frequency information was provided, so inferred frequency W-SUN will be used.\n",
      "  self._init_dates(dates, freq)\n",
      "C:\\Users\\karen\\anaconda3\\envs\\myenv\\lib\\site-packages\\statsmodels\\tsa\\base\\tsa_model.py:473: ValueWarning: No frequency information was provided, so inferred frequency W-SUN will be used.\n",
      "  self._init_dates(dates, freq)\n",
      "C:\\Users\\karen\\anaconda3\\envs\\myenv\\lib\\site-packages\\statsmodels\\tsa\\base\\tsa_model.py:473: ValueWarning: No frequency information was provided, so inferred frequency W-SUN will be used.\n",
      "  self._init_dates(dates, freq)\n",
      "C:\\Users\\karen\\anaconda3\\envs\\myenv\\lib\\site-packages\\statsmodels\\tsa\\base\\tsa_model.py:473: ValueWarning: No frequency information was provided, so inferred frequency W-SUN will be used.\n",
      "  self._init_dates(dates, freq)\n",
      "C:\\Users\\karen\\anaconda3\\envs\\myenv\\lib\\site-packages\\statsmodels\\tsa\\base\\tsa_model.py:473: ValueWarning: No frequency information was provided, so inferred frequency W-SUN will be used.\n",
      "  self._init_dates(dates, freq)\n",
      "C:\\Users\\karen\\anaconda3\\envs\\myenv\\lib\\site-packages\\statsmodels\\tsa\\base\\tsa_model.py:473: ValueWarning: No frequency information was provided, so inferred frequency W-SUN will be used.\n",
      "  self._init_dates(dates, freq)\n",
      "C:\\Users\\karen\\anaconda3\\envs\\myenv\\lib\\site-packages\\statsmodels\\tsa\\base\\tsa_model.py:473: ValueWarning: No frequency information was provided, so inferred frequency W-SUN will be used.\n",
      "  self._init_dates(dates, freq)\n",
      "C:\\Users\\karen\\anaconda3\\envs\\myenv\\lib\\site-packages\\statsmodels\\tsa\\base\\tsa_model.py:473: ValueWarning: No frequency information was provided, so inferred frequency W-SUN will be used.\n",
      "  self._init_dates(dates, freq)\n",
      "C:\\Users\\karen\\anaconda3\\envs\\myenv\\lib\\site-packages\\statsmodels\\tsa\\base\\tsa_model.py:473: ValueWarning: No frequency information was provided, so inferred frequency W-SUN will be used.\n",
      "  self._init_dates(dates, freq)\n",
      "C:\\Users\\karen\\anaconda3\\envs\\myenv\\lib\\site-packages\\statsmodels\\tsa\\base\\tsa_model.py:473: ValueWarning: No frequency information was provided, so inferred frequency W-SUN will be used.\n",
      "  self._init_dates(dates, freq)\n",
      "C:\\Users\\karen\\anaconda3\\envs\\myenv\\lib\\site-packages\\statsmodels\\tsa\\base\\tsa_model.py:473: ValueWarning: No frequency information was provided, so inferred frequency W-SUN will be used.\n",
      "  self._init_dates(dates, freq)\n",
      "C:\\Users\\karen\\anaconda3\\envs\\myenv\\lib\\site-packages\\statsmodels\\tsa\\base\\tsa_model.py:473: ValueWarning: No frequency information was provided, so inferred frequency W-SUN will be used.\n",
      "  self._init_dates(dates, freq)\n",
      "C:\\Users\\karen\\anaconda3\\envs\\myenv\\lib\\site-packages\\statsmodels\\tsa\\statespace\\sarimax.py:966: UserWarning: Non-stationary starting autoregressive parameters found. Using zeros as starting parameters.\n",
      "  warn('Non-stationary starting autoregressive parameters'\n",
      "C:\\Users\\karen\\anaconda3\\envs\\myenv\\lib\\site-packages\\statsmodels\\base\\model.py:607: ConvergenceWarning: Maximum Likelihood optimization failed to converge. Check mle_retvals\n",
      "  warnings.warn(\"Maximum Likelihood optimization failed to \"\n",
      "C:\\Users\\karen\\anaconda3\\envs\\myenv\\lib\\site-packages\\statsmodels\\tsa\\base\\tsa_model.py:473: ValueWarning: No frequency information was provided, so inferred frequency W-SUN will be used.\n",
      "  self._init_dates(dates, freq)\n",
      "C:\\Users\\karen\\anaconda3\\envs\\myenv\\lib\\site-packages\\statsmodels\\tsa\\base\\tsa_model.py:473: ValueWarning: No frequency information was provided, so inferred frequency W-SUN will be used.\n",
      "  self._init_dates(dates, freq)\n",
      "C:\\Users\\karen\\anaconda3\\envs\\myenv\\lib\\site-packages\\statsmodels\\tsa\\base\\tsa_model.py:473: ValueWarning: No frequency information was provided, so inferred frequency W-SUN will be used.\n",
      "  self._init_dates(dates, freq)\n",
      "C:\\Users\\karen\\anaconda3\\envs\\myenv\\lib\\site-packages\\statsmodels\\tsa\\statespace\\sarimax.py:966: UserWarning: Non-stationary starting autoregressive parameters found. Using zeros as starting parameters.\n",
      "  warn('Non-stationary starting autoregressive parameters'\n",
      "C:\\Users\\karen\\anaconda3\\envs\\myenv\\lib\\site-packages\\statsmodels\\tsa\\statespace\\sarimax.py:978: UserWarning: Non-invertible starting MA parameters found. Using zeros as starting parameters.\n",
      "  warn('Non-invertible starting MA parameters found.'\n"
     ]
    }
   ],
   "source": [
    "hqicVal=[]\n",
    "for ari in range(0, 3): #p\n",
    "    for maj in range(0,3): #q\n",
    "        try:\n",
    "            arima_obj = smtsa.ARIMA(train, order=(ari, 0, maj))\n",
    "            arima_obj_fit=arima_obj.fit()\n",
    "            a, warning = assumptions(arima_obj_fit)\n",
    "            hqicVal.append([ari, 0, maj, arima_obj_fit.hqic, arima_obj_fit.aic, warning])\n",
    "            \n",
    "        except ValueError:\n",
    "            pass"
   ]
  },
  {
   "cell_type": "code",
   "execution_count": 31,
   "id": "ac779bad-0afc-4cc9-a48e-1e1959ff0f9d",
   "metadata": {
    "tags": []
   },
   "outputs": [
    {
     "data": {
      "text/html": [
       "<div>\n",
       "<style scoped>\n",
       "    .dataframe tbody tr th:only-of-type {\n",
       "        vertical-align: middle;\n",
       "    }\n",
       "\n",
       "    .dataframe tbody tr th {\n",
       "        vertical-align: top;\n",
       "    }\n",
       "\n",
       "    .dataframe thead th {\n",
       "        text-align: right;\n",
       "    }\n",
       "</style>\n",
       "<table border=\"1\" class=\"dataframe\">\n",
       "  <thead>\n",
       "    <tr style=\"text-align: right;\">\n",
       "      <th></th>\n",
       "      <th>AR(p)</th>\n",
       "      <th>d</th>\n",
       "      <th>MA(q)</th>\n",
       "      <th>HQIC</th>\n",
       "      <th>AIC</th>\n",
       "      <th>Residuals</th>\n",
       "    </tr>\n",
       "  </thead>\n",
       "  <tbody>\n",
       "    <tr>\n",
       "      <th>0</th>\n",
       "      <td>0</td>\n",
       "      <td>0</td>\n",
       "      <td>0</td>\n",
       "      <td>182.690849</td>\n",
       "      <td>180.366850</td>\n",
       "      <td>The residuals aren't homocedastic The residua...</td>\n",
       "    </tr>\n",
       "    <tr>\n",
       "      <th>1</th>\n",
       "      <td>0</td>\n",
       "      <td>0</td>\n",
       "      <td>1</td>\n",
       "      <td>109.432486</td>\n",
       "      <td>105.946487</td>\n",
       "      <td>The residuals aren't homocedastic The residua...</td>\n",
       "    </tr>\n",
       "    <tr>\n",
       "      <th>2</th>\n",
       "      <td>0</td>\n",
       "      <td>0</td>\n",
       "      <td>2</td>\n",
       "      <td>90.473725</td>\n",
       "      <td>85.825727</td>\n",
       "      <td>The residuals aren't homocedastic The residua...</td>\n",
       "    </tr>\n",
       "    <tr>\n",
       "      <th>3</th>\n",
       "      <td>1</td>\n",
       "      <td>0</td>\n",
       "      <td>0</td>\n",
       "      <td>73.935098</td>\n",
       "      <td>70.449099</td>\n",
       "      <td>The residuals aren't homocedastic The residua...</td>\n",
       "    </tr>\n",
       "    <tr>\n",
       "      <th>4</th>\n",
       "      <td>1</td>\n",
       "      <td>0</td>\n",
       "      <td>1</td>\n",
       "      <td>76.426178</td>\n",
       "      <td>71.778180</td>\n",
       "      <td>The residuals aren't homocedastic The residua...</td>\n",
       "    </tr>\n",
       "    <tr>\n",
       "      <th>5</th>\n",
       "      <td>1</td>\n",
       "      <td>0</td>\n",
       "      <td>2</td>\n",
       "      <td>78.357143</td>\n",
       "      <td>72.547145</td>\n",
       "      <td>The residuals aren't homocedastic The residua...</td>\n",
       "    </tr>\n",
       "    <tr>\n",
       "      <th>6</th>\n",
       "      <td>2</td>\n",
       "      <td>0</td>\n",
       "      <td>0</td>\n",
       "      <td>76.322250</td>\n",
       "      <td>71.674252</td>\n",
       "      <td>The residuals aren't homocedastic The residua...</td>\n",
       "    </tr>\n",
       "    <tr>\n",
       "      <th>7</th>\n",
       "      <td>2</td>\n",
       "      <td>0</td>\n",
       "      <td>1</td>\n",
       "      <td>77.768189</td>\n",
       "      <td>71.958191</td>\n",
       "      <td>The residuals aren't homocedastic The residua...</td>\n",
       "    </tr>\n",
       "    <tr>\n",
       "      <th>8</th>\n",
       "      <td>2</td>\n",
       "      <td>0</td>\n",
       "      <td>2</td>\n",
       "      <td>81.474583</td>\n",
       "      <td>74.502585</td>\n",
       "      <td>The residuals aren't homocedastic The residua...</td>\n",
       "    </tr>\n",
       "  </tbody>\n",
       "</table>\n",
       "</div>"
      ],
      "text/plain": [
       "   AR(p)  d  MA(q)        HQIC         AIC  \\\n",
       "0      0  0      0  182.690849  180.366850   \n",
       "1      0  0      1  109.432486  105.946487   \n",
       "2      0  0      2   90.473725   85.825727   \n",
       "3      1  0      0   73.935098   70.449099   \n",
       "4      1  0      1   76.426178   71.778180   \n",
       "5      1  0      2   78.357143   72.547145   \n",
       "6      2  0      0   76.322250   71.674252   \n",
       "7      2  0      1   77.768189   71.958191   \n",
       "8      2  0      2   81.474583   74.502585   \n",
       "\n",
       "                                           Residuals  \n",
       "0   The residuals aren't homocedastic The residua...  \n",
       "1   The residuals aren't homocedastic The residua...  \n",
       "2   The residuals aren't homocedastic The residua...  \n",
       "3   The residuals aren't homocedastic The residua...  \n",
       "4   The residuals aren't homocedastic The residua...  \n",
       "5   The residuals aren't homocedastic The residua...  \n",
       "6   The residuals aren't homocedastic The residua...  \n",
       "7   The residuals aren't homocedastic The residua...  \n",
       "8   The residuals aren't homocedastic The residua...  "
      ]
     },
     "execution_count": 31,
     "metadata": {},
     "output_type": "execute_result"
    }
   ],
   "source": [
    "dfHQIC = pd.DataFrame(hqicVal, columns=['AR(p)', 'd', 'MA(q)', 'HQIC', 'AIC', 'Residuals'])\n",
    "dfHQIC"
   ]
  },
  {
   "cell_type": "code",
   "execution_count": 32,
   "id": "ab4156f4-e74b-423e-ae67-0c4024678f4b",
   "metadata": {
    "tags": []
   },
   "outputs": [],
   "source": [
    "ts_boxcox=stats.boxcox(ts)\n",
    "train, validation, test = split(ts_boxcox[0], 0.7)"
   ]
  },
  {
   "cell_type": "code",
   "execution_count": 33,
   "id": "071aa490-fb4e-472a-b2e1-a51686a446b2",
   "metadata": {},
   "outputs": [],
   "source": [
    "hqicVal=[]\n",
    "\n",
    "for ari in range(0, 3): #p\n",
    "    for maj in range(0,3): #q\n",
    "        try:\n",
    "            arima_obj = smtsa.ARIMA(train, order=(ari, 0, maj))\n",
    "            arima_obj_fit=arima_obj.fit()\n",
    "            a, warning = assumptions(arima_obj_fit)\n",
    "            hqicVal.append([ari, 0, maj, arima_obj_fit.hqic, arima_obj_fit.aic, warning])\n",
    "            \n",
    "        except ValueError:\n",
    "            pass"
   ]
  },
  {
   "cell_type": "code",
   "execution_count": 34,
   "id": "611d7766-c62e-477f-9a13-fc72ce483213",
   "metadata": {},
   "outputs": [
    {
     "data": {
      "text/html": [
       "<div>\n",
       "<style scoped>\n",
       "    .dataframe tbody tr th:only-of-type {\n",
       "        vertical-align: middle;\n",
       "    }\n",
       "\n",
       "    .dataframe tbody tr th {\n",
       "        vertical-align: top;\n",
       "    }\n",
       "\n",
       "    .dataframe thead th {\n",
       "        text-align: right;\n",
       "    }\n",
       "</style>\n",
       "<table border=\"1\" class=\"dataframe\">\n",
       "  <thead>\n",
       "    <tr style=\"text-align: right;\">\n",
       "      <th></th>\n",
       "      <th>AR(p)</th>\n",
       "      <th>d</th>\n",
       "      <th>MA(q)</th>\n",
       "      <th>HQIC</th>\n",
       "      <th>AIC</th>\n",
       "      <th>Residuals</th>\n",
       "    </tr>\n",
       "  </thead>\n",
       "  <tbody>\n",
       "    <tr>\n",
       "      <th>0</th>\n",
       "      <td>0</td>\n",
       "      <td>0</td>\n",
       "      <td>0</td>\n",
       "      <td>1831.884950</td>\n",
       "      <td>1829.560951</td>\n",
       "      <td>The residuals do not follow a normal distribu...</td>\n",
       "    </tr>\n",
       "    <tr>\n",
       "      <th>1</th>\n",
       "      <td>0</td>\n",
       "      <td>0</td>\n",
       "      <td>1</td>\n",
       "      <td>1776.943240</td>\n",
       "      <td>1773.457241</td>\n",
       "      <td>The residuals do not follow a normal distribu...</td>\n",
       "    </tr>\n",
       "    <tr>\n",
       "      <th>2</th>\n",
       "      <td>0</td>\n",
       "      <td>0</td>\n",
       "      <td>2</td>\n",
       "      <td>1737.822849</td>\n",
       "      <td>1733.174850</td>\n",
       "      <td>The residuals do not follow a normal distribu...</td>\n",
       "    </tr>\n",
       "    <tr>\n",
       "      <th>3</th>\n",
       "      <td>1</td>\n",
       "      <td>0</td>\n",
       "      <td>0</td>\n",
       "      <td>1713.070755</td>\n",
       "      <td>1709.584756</td>\n",
       "      <td>The residuals do not follow a normal distribu...</td>\n",
       "    </tr>\n",
       "    <tr>\n",
       "      <th>4</th>\n",
       "      <td>1</td>\n",
       "      <td>0</td>\n",
       "      <td>1</td>\n",
       "      <td>1702.538744</td>\n",
       "      <td>1697.890745</td>\n",
       "      <td>The residuals do not follow a normal distribu...</td>\n",
       "    </tr>\n",
       "    <tr>\n",
       "      <th>5</th>\n",
       "      <td>1</td>\n",
       "      <td>0</td>\n",
       "      <td>2</td>\n",
       "      <td>1705.121351</td>\n",
       "      <td>1699.311352</td>\n",
       "      <td>The residuals do not follow a normal distribu...</td>\n",
       "    </tr>\n",
       "    <tr>\n",
       "      <th>6</th>\n",
       "      <td>2</td>\n",
       "      <td>0</td>\n",
       "      <td>0</td>\n",
       "      <td>1701.103673</td>\n",
       "      <td>1696.455674</td>\n",
       "      <td>The residuals do not follow a normal distribu...</td>\n",
       "    </tr>\n",
       "    <tr>\n",
       "      <th>7</th>\n",
       "      <td>2</td>\n",
       "      <td>0</td>\n",
       "      <td>1</td>\n",
       "      <td>1704.157060</td>\n",
       "      <td>1698.347062</td>\n",
       "      <td>The residuals do not follow a normal distribu...</td>\n",
       "    </tr>\n",
       "    <tr>\n",
       "      <th>8</th>\n",
       "      <td>2</td>\n",
       "      <td>0</td>\n",
       "      <td>2</td>\n",
       "      <td>1707.063147</td>\n",
       "      <td>1700.091149</td>\n",
       "      <td>The residuals do not follow a normal distribu...</td>\n",
       "    </tr>\n",
       "  </tbody>\n",
       "</table>\n",
       "</div>"
      ],
      "text/plain": [
       "   AR(p)  d  MA(q)         HQIC          AIC  \\\n",
       "0      0  0      0  1831.884950  1829.560951   \n",
       "1      0  0      1  1776.943240  1773.457241   \n",
       "2      0  0      2  1737.822849  1733.174850   \n",
       "3      1  0      0  1713.070755  1709.584756   \n",
       "4      1  0      1  1702.538744  1697.890745   \n",
       "5      1  0      2  1705.121351  1699.311352   \n",
       "6      2  0      0  1701.103673  1696.455674   \n",
       "7      2  0      1  1704.157060  1698.347062   \n",
       "8      2  0      2  1707.063147  1700.091149   \n",
       "\n",
       "                                           Residuals  \n",
       "0   The residuals do not follow a normal distribu...  \n",
       "1   The residuals do not follow a normal distribu...  \n",
       "2   The residuals do not follow a normal distribu...  \n",
       "3   The residuals do not follow a normal distribu...  \n",
       "4   The residuals do not follow a normal distribu...  \n",
       "5   The residuals do not follow a normal distribu...  \n",
       "6   The residuals do not follow a normal distribu...  \n",
       "7   The residuals do not follow a normal distribu...  \n",
       "8   The residuals do not follow a normal distribu...  "
      ]
     },
     "execution_count": 34,
     "metadata": {},
     "output_type": "execute_result"
    }
   ],
   "source": [
    "dfHQIC = pd.DataFrame(hqicVal, columns=['AR(p)', 'd', 'MA(q)', 'HQIC', 'AIC', 'Residuals'])\n",
    "dfHQIC"
   ]
  },
  {
   "cell_type": "markdown",
   "id": "e14a4f78-3a93-4aaa-8bbe-fc1b4653a9ab",
   "metadata": {},
   "source": [
    "## SARIMA"
   ]
  },
  {
   "cell_type": "code",
   "execution_count": 36,
   "id": "0d26c655-8dcd-41ec-bd58-4ee6b37548d2",
   "metadata": {
    "tags": []
   },
   "outputs": [
    {
     "data": {
      "text/plain": [
       "0.0"
      ]
     },
     "execution_count": 36,
     "metadata": {},
     "output_type": "execute_result"
    }
   ],
   "source": [
    "ts_seasonal = seasonal_decompose(ts, period = 4, model='additive').seasonal\n",
    "\n",
    "#H0: La serie no es estacionaria\n",
    "#H1: La serie es estacionaria\n",
    "adf_result = adfuller(ts_seasonal.dropna(), autolag='AIC')\n",
    "adf_result[1] #D =0"
   ]
  },
  {
   "cell_type": "code",
   "execution_count": 37,
   "id": "4beba361-a6a6-40a9-878b-f763b7b97577",
   "metadata": {
    "tags": []
   },
   "outputs": [
    {
     "data": {
      "text/plain": [
       "<Figure size 550x550 with 0 Axes>"
      ]
     },
     "metadata": {},
     "output_type": "display_data"
    },
    {
     "data": {
      "image/png": "[encoded data removed]",
      "text/plain": [
       "<Figure size 640x480 with 1 Axes>"
      ]
     },
     "metadata": {},
     "output_type": "display_data"
    }
   ],
   "source": [
    "plt.figure(figsize=(5.5, 5.5));\n",
    "plot_pacf(ts_seasonal);\n",
    "#p 1-5"
   ]
  },
  {
   "cell_type": "code",
   "execution_count": 38,
   "id": "29b27c4d-30ad-469a-a222-2eddcb75379e",
   "metadata": {
    "tags": []
   },
   "outputs": [
    {
     "data": {
      "text/plain": [
       "<Figure size 550x550 with 0 Axes>"
      ]
     },
     "metadata": {},
     "output_type": "display_data"
    },
    {
     "data": {
      "image/png": "[encoded data removed]",
      "text/plain": [
       "<Figure size 640x480 with 1 Axes>"
      ]
     },
     "metadata": {},
     "output_type": "display_data"
    }
   ],
   "source": [
    "plt.figure(figsize=(5.5, 5.5));\n",
    "plot_acf(ts_seasonal);\n",
    "#q 2, 4, 6"
   ]
  },
  {
   "cell_type": "code",
   "execution_count": 39,
   "id": "1667f875-3759-485f-a63e-8e78c7f8cabe",
   "metadata": {
    "tags": []
   },
   "outputs": [],
   "source": [
    "train, validation, test = split(ts, 0.7)"
   ]
  },
  {
   "cell_type": "code",
   "execution_count": 41,
   "id": "d56f45ce-e35c-4946-91ed-3270870dd2e9",
   "metadata": {
    "tags": []
   },
   "outputs": [
    {
     "name": "stderr",
     "output_type": "stream",
     "text": [
      "C:\\Users\\karen\\anaconda3\\envs\\myenv\\lib\\site-packages\\statsmodels\\tsa\\base\\tsa_model.py:473: ValueWarning: No frequency information was provided, so inferred frequency W-SUN will be used.\n",
      "  self._init_dates(dates, freq)\n",
      "C:\\Users\\karen\\anaconda3\\envs\\myenv\\lib\\site-packages\\statsmodels\\tsa\\base\\tsa_model.py:473: ValueWarning: No frequency information was provided, so inferred frequency W-SUN will be used.\n",
      "  self._init_dates(dates, freq)\n"
     ]
    }
   ],
   "source": [
    "mod = sm.tsa.statespace.SARIMAX(train, trend='n', order=(1, 1, 1),\n",
    "                                seasonal_order=(5, 0, 2, 2)).fit()"
   ]
  },
  {
   "cell_type": "code",
   "execution_count": 42,
   "id": "80dfefd1-49c0-49c8-a0b9-db2f0e4c9490",
   "metadata": {
    "tags": []
   },
   "outputs": [
    {
     "data": {
      "text/plain": [
       "(5,\n",
       " ' The residuals do not follow a normal distribution in none of the confidence levels.')"
      ]
     },
     "execution_count": 42,
     "metadata": {},
     "output_type": "execute_result"
    }
   ],
   "source": [
    "assumptions(mod)"
   ]
  },
  {
   "cell_type": "markdown",
   "id": "b09ad444-4459-49af-8a41-04dedf17c56c",
   "metadata": {},
   "source": [
    "## modelo literatura"
   ]
  },
  {
   "cell_type": "code",
   "execution_count": null,
   "id": "3184e019-c9f1-483b-b7df-39015b85be12",
   "metadata": {
    "tags": []
   },
   "outputs": [],
   "source": [
    "#modelos suavizacion holt winters\n",
    "#suavizacion exponencial simpe\n",
    "#suavizacion exponencial doble\n",
    "#suavizacion exponencial triple\n",
    "#revisar distribucion normal\n",
    "#tabla con resultados de cada modelo"
   ]
  }
 ],
 "metadata": {
  "kernelspec": {
   "display_name": "Python 3 (ipykernel)",
   "language": "python",
   "name": "python3"
  },
  "language_info": {
   "codemirror_mode": {
    "name": "ipython",
    "version": 3
   },
   "file_extension": ".py",
   "mimetype": "text/x-python",
   "name": "python",
   "nbconvert_exporter": "python",
   "pygments_lexer": "ipython3",
   "version": "3.10.9"
  }
 },
 "nbformat": 4,
 "nbformat_minor": 5
}
