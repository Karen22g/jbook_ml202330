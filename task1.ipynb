{
 "cells": [
  {
   "cell_type": "code",
   "execution_count": 2,
   "id": "fdf948ec-41ef-4db8-957e-3d0b3192ef3a",
   "metadata": {
    "tags": []
   },
   "outputs": [],
   "source": [
    "#Paquetes utilizados\n",
    "import pandas as pd\n",
    "import numpy as np\n",
    "import matplotlib.pyplot as plt\n",
    "import seaborn as sns\n",
    "import plotly.graph_objects as go\n",
    "from sklearn.linear_model import LinearRegression\n",
    "from sklearn.metrics import r2_score\n",
    "import numpy as np\n",
    "from statsmodels.tsa.stattools import adfuller\n",
    "from pandas import Series\n",
    "import matplotlib as mpl\n",
    "from statsmodels.tsa import seasonal\n",
    "import zipfile\n",
    "import os"
   ]
  },
  {
   "cell_type": "markdown",
   "id": "3be12afc-e442-4ddb-b8a1-4829ae3dab42",
   "metadata": {},
   "source": [
    "# Bonificación 1 - Suavización Exponencial"
   ]
  },
  {
   "cell_type": "markdown",
   "id": "aec96bc6-eda1-415d-9c79-4466b072b399",
   "metadata": {},
   "source": [
    "En este ejercicio estaremos analizando el comportamiento de la energía producida en turbinas de gas a partir de señales de entrada. Para ello, se tienen 6 series de tiempo de training y 2 de testing. Cada serie de tiempo que se desea testear tiene un comportamiento distinto, uno rectangular y una continua.\n",
    "\n",
    "Estaremos probando 4 modelos de pronóstico que son suavización exponencial de primer y segundo orden, de segundo orden con actualización de factor de descuento y por último Holt-Winters para cada una de las series de training. El objetivo es encontrar la serie de training y el modelo que permita explicar de mejor manera cada serie de testing.\n",
    "\n",
    "El criterio de aceptación en este caso será el RMSE (Raíz del error cuadrático medio)."
   ]
  },
  {
   "cell_type": "code",
   "execution_count": 7,
   "id": "d327bed7-9fa1-4045-904c-f16d326850a8",
   "metadata": {
    "tags": []
   },
   "outputs": [],
   "source": [
    "with zipfile.ZipFile('train.zip','r') as zip_ref:\n",
    "    zip_ref.extractall('data/')"
   ]
  },
  {
   "cell_type": "code",
   "execution_count": 8,
   "id": "c52d428a-0c4f-47e4-b6ac-49e8aa254982",
   "metadata": {
    "tags": []
   },
   "outputs": [],
   "source": [
    "with zipfile.ZipFile('test.zip','r') as zip_ref:\n",
    "    zip_ref.extractall('data/')"
   ]
  },
  {
   "cell_type": "code",
   "execution_count": 12,
   "id": "5286c192-2914-484c-ac63-d55f8bb2a45c",
   "metadata": {
    "tags": []
   },
   "outputs": [],
   "source": [
    "train1=pd.read_csv('data/train/ex_9.csv')\n",
    "train2=pd.read_csv('data/train/ex_23.csv')\n",
    "train3=pd.read_csv('data/train/ex_20.csv')\n",
    "train4=pd.read_csv('data/train/ex_21.csv')\n",
    "train5=pd.read_csv('data/train/ex_1.csv')\n",
    "train6=pd.read_csv('data/train/ex_24.csv')"
   ]
  },
  {
   "cell_type": "code",
   "execution_count": 13,
   "id": "309464f2-f327-41e3-aa61-4bd6bc8ed159",
   "metadata": {
    "tags": []
   },
   "outputs": [
    {
     "data": {
      "text/html": [
       "<div>\n",
       "<style scoped>\n",
       "    .dataframe tbody tr th:only-of-type {\n",
       "        vertical-align: middle;\n",
       "    }\n",
       "\n",
       "    .dataframe tbody tr th {\n",
       "        vertical-align: top;\n",
       "    }\n",
       "\n",
       "    .dataframe thead th {\n",
       "        text-align: right;\n",
       "    }\n",
       "</style>\n",
       "<table border=\"1\" class=\"dataframe\">\n",
       "  <thead>\n",
       "    <tr style=\"text-align: right;\">\n",
       "      <th></th>\n",
       "      <th>time</th>\n",
       "      <th>input_voltage</th>\n",
       "      <th>el_power</th>\n",
       "    </tr>\n",
       "  </thead>\n",
       "  <tbody>\n",
       "    <tr>\n",
       "      <th>0</th>\n",
       "      <td>810.07028</td>\n",
       "      <td>10</td>\n",
       "      <td>1228.791720</td>\n",
       "    </tr>\n",
       "    <tr>\n",
       "      <th>1</th>\n",
       "      <td>811.06938</td>\n",
       "      <td>10</td>\n",
       "      <td>1223.041745</td>\n",
       "    </tr>\n",
       "    <tr>\n",
       "      <th>2</th>\n",
       "      <td>812.06848</td>\n",
       "      <td>10</td>\n",
       "      <td>1244.960866</td>\n",
       "    </tr>\n",
       "    <tr>\n",
       "      <th>3</th>\n",
       "      <td>813.06758</td>\n",
       "      <td>10</td>\n",
       "      <td>1229.259058</td>\n",
       "    </tr>\n",
       "    <tr>\n",
       "      <th>4</th>\n",
       "      <td>814.06668</td>\n",
       "      <td>10</td>\n",
       "      <td>1248.117024</td>\n",
       "    </tr>\n",
       "    <tr>\n",
       "      <th>...</th>\n",
       "      <td>...</td>\n",
       "      <td>...</td>\n",
       "      <td>...</td>\n",
       "    </tr>\n",
       "    <tr>\n",
       "      <th>9915</th>\n",
       "      <td>10716.66218</td>\n",
       "      <td>3</td>\n",
       "      <td>962.030262</td>\n",
       "    </tr>\n",
       "    <tr>\n",
       "      <th>9916</th>\n",
       "      <td>10717.66128</td>\n",
       "      <td>3</td>\n",
       "      <td>963.213626</td>\n",
       "    </tr>\n",
       "    <tr>\n",
       "      <th>9917</th>\n",
       "      <td>10718.66038</td>\n",
       "      <td>3</td>\n",
       "      <td>947.956869</td>\n",
       "    </tr>\n",
       "    <tr>\n",
       "      <th>9918</th>\n",
       "      <td>10719.65948</td>\n",
       "      <td>3</td>\n",
       "      <td>944.314505</td>\n",
       "    </tr>\n",
       "    <tr>\n",
       "      <th>9919</th>\n",
       "      <td>10720.65858</td>\n",
       "      <td>3</td>\n",
       "      <td>968.184917</td>\n",
       "    </tr>\n",
       "  </tbody>\n",
       "</table>\n",
       "<p>9920 rows × 3 columns</p>\n",
       "</div>"
      ],
      "text/plain": [
       "             time  input_voltage     el_power\n",
       "0       810.07028             10  1228.791720\n",
       "1       811.06938             10  1223.041745\n",
       "2       812.06848             10  1244.960866\n",
       "3       813.06758             10  1229.259058\n",
       "4       814.06668             10  1248.117024\n",
       "...           ...            ...          ...\n",
       "9915  10716.66218              3   962.030262\n",
       "9916  10717.66128              3   963.213626\n",
       "9917  10718.66038              3   947.956869\n",
       "9918  10719.65948              3   944.314505\n",
       "9919  10720.65858              3   968.184917\n",
       "\n",
       "[9920 rows x 3 columns]"
      ]
     },
     "execution_count": 13,
     "metadata": {},
     "output_type": "execute_result"
    }
   ],
   "source": [
    "train5"
   ]
  },
  {
   "cell_type": "code",
   "execution_count": null,
   "id": "2d8e4602-5f64-4569-9b01-93c3da1bab97",
   "metadata": {},
   "outputs": [],
   "source": [
    "djia_ts = pd.Series(data=['el_power'].values, index=djia_df.index)\n",
    "plt.rcParams['text.usetex'] = True\n",
    "plt.figure()\n",
    "djia_ts.plot(color='b')\n",
    "plt.title('Dow Jones Industrial Average between Jan 2016 - Dec 2016')\n",
    "plt.xlabel('Time')\n",
    "plt.ylabel('Closing Value');"
   ]
  }
 ],
 "metadata": {
  "kernelspec": {
   "display_name": "Python 3 (ipykernel)",
   "language": "python",
   "name": "python3"
  },
  "language_info": {
   "codemirror_mode": {
    "name": "ipython",
    "version": 3
   },
   "file_extension": ".py",
   "mimetype": "text/x-python",
   "name": "python",
   "nbconvert_exporter": "python",
   "pygments_lexer": "ipython3",
   "version": "3.10.9"
  }
 },
 "nbformat": 4,
 "nbformat_minor": 5
}
